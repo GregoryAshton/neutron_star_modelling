{
 "metadata": {
  "name": "",
  "signature": "sha256:d80abe7793a7c2b4c39a1bcb15580ec37f68d8539b35d9711da3f7df27faf152"
 },
 "nbformat": 3,
 "nbformat_minor": 0,
 "worksheets": [
  {
   "cells": [
    {
     "cell_type": "code",
     "collapsed": true,
     "input": [
      "from sympy import *\n",
      "init_printing()"
     ],
     "language": "python",
     "metadata": {},
     "outputs": [],
     "prompt_number": 1
    },
    {
     "cell_type": "code",
     "collapsed": false,
     "input": [
      "#I1, I2, I3 = symbols('I_{1} I_{2} I_{3}')\n",
      "I0 = symbols('I0')\n",
      "epsI, epsA, chi = symbols('\\epsilon_{I} \\epsilon_{A} \\chi')\n",
      "w1, w2, w3 = symbols('\\Omega_{1} \\Omega_{2} \\Omega_{3}')\n",
      "M, E = symbols('M E')\n",
      "\n",
      "I1 = I0\n",
      "I2 = I0\n",
      "I3 = I0 * (1 + epsI)\n",
      "\n",
      "m1 = I1 * w1\n",
      "m2 = I2 * w2\n",
      "m3 = sqrt(I3 * (2 * E - m1**2/I1 - m2**2/I2))\n",
      "m3"
     ],
     "language": "python",
     "metadata": {},
     "outputs": [
      {
       "latex": [
        "$$\\sqrt{I_{0} \\left(\\epsilon_{{I}} + 1\\right) \\left(2 E - I_{0} \\Omega_{{1}}^{2} - I_{0} \\Omega_{{2}}^{2}\\right)}$$"
       ],
       "metadata": {},
       "output_type": "pyout",
       "png": "[encoded data removed]",
       "prompt_number": 13,
       "text": [
        "   _______________________________________________________________\n",
        "  \u2571                       \u239b                   2                2\u239e \n",
        "\u2572\u2571  I\u2080\u22c5(\\epsilon_{I} + 1)\u22c5\u239d2\u22c5E - I\u2080\u22c5\\Omega_{1}  - I\u2080\u22c5\\Omega_{2} \u23a0 "
       ]
      }
     ],
     "prompt_number": 13
    },
    {
     "cell_type": "code",
     "collapsed": false,
     "input": [
      "sinE = sqrt(m1**2 + m2**2) / sqrt(m1**2 + m2**2 + m3**2)\n",
      "simplify(sinE)"
     ],
     "language": "python",
     "metadata": {},
     "outputs": [
      {
       "latex": [
        "$$\\frac{\\sqrt{I_{0}^{2} \\left(\\Omega_{{1}}^{2} + \\Omega_{{2}}^{2}\\right)}}{\\sqrt{I_{0} \\left(2 E \\epsilon_{{I}} + 2 E - I_{0} \\Omega_{{1}}^{2} \\epsilon_{{I}} - I_{0} \\Omega_{{2}}^{2} \\epsilon_{{I}}\\right)}}$$"
       ],
       "metadata": {},
       "output_type": "pyout",
       "png": "[encoded data removed]",
       "prompt_number": 14,
       "text": [
        "                               _________________________________              \n",
        "                              \u2571   2 \u239b          2             2\u239e               \n",
        "                            \u2572\u2571  I\u2080 \u22c5\u239d\\Omega_{1}  + \\Omega_{2} \u23a0               \n",
        "\u2500\u2500\u2500\u2500\u2500\u2500\u2500\u2500\u2500\u2500\u2500\u2500\u2500\u2500\u2500\u2500\u2500\u2500\u2500\u2500\u2500\u2500\u2500\u2500\u2500\u2500\u2500\u2500\u2500\u2500\u2500\u2500\u2500\u2500\u2500\u2500\u2500\u2500\u2500\u2500\u2500\u2500\u2500\u2500\u2500\u2500\u2500\u2500\u2500\u2500\u2500\u2500\u2500\u2500\u2500\u2500\u2500\u2500\u2500\u2500\u2500\u2500\u2500\u2500\u2500\u2500\u2500\u2500\u2500\u2500\u2500\u2500\u2500\u2500\u2500\u2500\u2500\u2500\n",
        "   ___________________________________________________________________________\n",
        "  \u2571    \u239b                                      2                             2 \n",
        "\u2572\u2571  I\u2080\u22c5\u239d2\u22c5E\u22c5\\epsilon_{I} + 2\u22c5E - I\u2080\u22c5\\Omega_{1} \u22c5\\epsilon_{I} - I\u2080\u22c5\\Omega_{2} \u22c5\n",
        "\n",
        "              \n",
        "              \n",
        "              \n",
        "\u2500\u2500\u2500\u2500\u2500\u2500\u2500\u2500\u2500\u2500\u2500\u2500\u2500\u2500\n",
        "______________\n",
        "            \u239e \n",
        "\\epsilon_{I}\u23a0 "
       ]
      }
     ],
     "prompt_number": 14
    },
    {
     "cell_type": "code",
     "collapsed": true,
     "input": [],
     "language": "python",
     "metadata": {},
     "outputs": []
    }
   ],
   "metadata": {}
  }
 ]
}