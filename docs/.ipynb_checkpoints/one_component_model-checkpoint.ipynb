{
 "metadata": {
  "name": "one_component_model"
 },
 "nbformat": 3,
 "nbformat_minor": 0,
 "worksheets": [
  {
   "cells": [
    {
     "cell_type": "markdown",
     "metadata": {},
     "source": [
      "# One component model\n",
      "\n",
      "In this notebook we document the equations used in solving the one component model and build the cython file `one_component_model.pyx`.\n",
      "\n",
      "## Triaxial equations of motion\n",
      "We consider a single component model, a ellipsoidal mass with moment of inertia $I_{ab}$ and spin vector $\\omega_{a}$.\n",
      "In the rotating coordinate system such that the moment of inertia fixed and diagonal, the equations of motion in tensor form are given by\n",
      "\n",
      "\\begin{equation}\n",
      "I_{ab} \\dot{\\omega}_{b} + \\epsilon_{abc}\\omega_{b} I_{cd} \\omega_{d} = T_{a},\n",
      "\\end{equation}\n",
      "\n",
      "where $T_{a}$ is the torque discussed in the next section. Rearranging and writing out the three equations we have\n",
      "\n",
      "\\begin{equation}\n",
      "\\dot{\\omega_{x}} = \\frac{T_{x}}{I_{xx}} - \\omega_{y}\\omega_{z}\\left(\\frac{I_{zz} - I_{yy}}{I_{xx}}\\right)\n",
      "\\end{equation}\n",
      "\\begin{equation}\n",
      "\\dot{\\omega_{y}} = \\frac{T_{y}}{I_{yy}} - \\omega_{x}\\omega_{z}\\left(\\frac{I_{xx} - I_{zz}}{I_{yy}}\\right)\n",
      "\\end{equation}\n",
      "\\begin{equation}\n",
      "\\dot{\\omega_{z}} = \\frac{T_{z}}{I_{zz}} - \\omega_{x}\\omega_{y}\\left(\\frac{I_{yy} - I_{xx}}{I_{zz}}\\right)\n",
      "\\end{equation}\n",
      "\n",
      "We choose to define the moment of inertia in the following way \n",
      "\n",
      "\\begin{equation}\n",
      "I_{ab} = \\left[ \n",
      "\\begin{array}{ccc}\n",
      "I_{0}(1+\\epsilon_{I1}) & 0 & 0 \\\\\n",
      "0 & I_{0} & 0 \\\\\n",
      "0 & 0 & I_{0}(1+\\epsilon_{I3\n"
     ]
    },
    {
     "cell_type": "code",
     "collapsed": false,
     "input": [],
     "language": "python",
     "metadata": {},
     "outputs": []
    }
   ],
   "metadata": {}
  }
 ]
}