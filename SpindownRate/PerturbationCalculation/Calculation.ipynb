{
 "cells": [
  {
   "cell_type": "code",
   "execution_count": 1,
   "metadata": {
    "collapsed": true
   },
   "outputs": [],
   "source": [
    "from sympy import *\n",
    "init_printing()"
   ]
  },
  {
   "cell_type": "code",
   "execution_count": 4,
   "metadata": {
    "collapsed": false
   },
   "outputs": [
    {
     "data": {
      "image/png": "[encoded data removed]",
      "text/latex": [
       "$$\\sqrt{\\frac{4 R \\epsilon_{A} t}{3 c} + \\frac{1}{\\omega_{0}^{2} \\cos^{2}{\\left (a_{0} \\right )}}}$$"
      ],
      "text/plain": [
       "     __________________________\n",
       "    ╱ 4⋅R⋅ε_A⋅t        1       \n",
       "   ╱  ───────── + ──────────── \n",
       "  ╱      3⋅c        2    2     \n",
       "╲╱                ω₀ ⋅cos (a₀) "
      ]
     },
     "execution_count": 4,
     "metadata": {},
     "output_type": "execute_result"
    }
   ],
   "source": [
    "t = Symbol('t')\n",
    "omega0, a0, epsI, epsA, R, c = symbols('omega_0 a_0 epsilon_I epsilon_A R c')\n",
    "wz = sqrt(4*R/(3*c) * epsA * t + 1/(omega0*cos(a0))**2)\n",
    "wz"
   ]
  },
  {
   "cell_type": "code",
   "execution_count": 8,
   "metadata": {
    "collapsed": false
   },
   "outputs": [
    {
     "data": {
      "image/png": "[encoded data removed]",
      "text/latex": [
       "$$\\cos{\\left (\\frac{\\epsilon_{I}}{6 R \\epsilon_{A} \\omega_{0} \\sqrt{\\frac{4 R}{c} \\epsilon_{A} t + \\frac{3}{\\omega_{0}^{2} \\cos^{2}{\\left (a_{0} \\right )}}} \\cos{\\left (a_{0} \\right )}} \\left(\\frac{2 R \\epsilon_{A} t}{c \\omega_{0}} \\sqrt{3} \\left(4 R \\epsilon_{A} \\omega_{0}^{2} t \\cos{\\left (a_{0} \\right )} + \\frac{3 c}{\\cos{\\left (a_{0} \\right )}}\\right) - 9 c \\left(\\sqrt{3} \\omega_{0} \\cos{\\left (a_{0} \\right )} - \\sqrt{\\frac{4 R}{c} \\epsilon_{A} t + \\frac{3}{\\omega_{0}^{2} \\cos^{2}{\\left (a_{0} \\right )}}}\\right)\\right) \\right )}$$"
      ],
      "text/plain": [
       "   ⎛    ⎛    ___         ⎛          2               3⋅c  ⎞                    \n",
       "   ⎜    ⎜2⋅╲╱ 3 ⋅R⋅ε_A⋅t⋅⎜4⋅R⋅ε_A⋅ω₀ ⋅t⋅cos(a₀) + ───────⎟       ⎛            \n",
       "   ⎜    ⎜                ⎝                        cos(a₀)⎠       ⎜  ___       \n",
       "   ⎜ε_I⋅⎜───────────────────────────────────────────────── - 9⋅c⋅⎜╲╱ 3 ⋅ω₀⋅cos\n",
       "   ⎜    ⎜                       c⋅ω₀                             ⎜            \n",
       "   ⎜    ⎝                                                        ⎝            \n",
       "   ⎜──────────────────────────────────────────────────────────────────────────\n",
       "   ⎜                                                __________________________\n",
       "   ⎜                                               ╱ 4⋅R⋅ε_A⋅t        3       \n",
       "   ⎜                                6⋅R⋅ε_A⋅ω₀⋅   ╱  ───────── + ──────────── \n",
       "   ⎜                                             ╱       c         2    2     \n",
       "cos⎝                                           ╲╱                ω₀ ⋅cos (a₀) \n",
       "\n",
       "                                       ⎞⎞\n",
       "            __________________________⎞⎟⎟\n",
       "           ╱ 4⋅R⋅ε_A⋅t        3       ⎟⎟⎟\n",
       "(a₀) -    ╱  ───────── + ──────────── ⎟⎟⎟\n",
       "         ╱       c         2    2     ⎟⎟⎟\n",
       "       ╲╱                ω₀ ⋅cos (a₀) ⎠⎠⎟\n",
       "────────────────────────────────────────⎟\n",
       "                                        ⎟\n",
       "                                        ⎟\n",
       "⋅cos(a₀)                                ⎟\n",
       "                                        ⎟\n",
       "                                        ⎠"
      ]
     },
     "execution_count": 8,
     "metadata": {},
     "output_type": "execute_result"
    }
   ],
   "source": [
    "expr = cos(epsI*t*wz - 3*epsI*c / (2*R*epsA) * (1/wz - 1/(omega0*cos(a0))))\n",
    "expr = expr.simplify()\n",
    "expr"
   ]
  },
  {
   "cell_type": "code",
   "execution_count": null,
   "metadata": {
    "collapsed": true
   },
   "outputs": [],
   "source": [
    "integrate(expr, t)"
   ]
  }
 ],
 "metadata": {
  "kernelspec": {
   "display_name": "Python 2",
   "language": "python",
   "name": "python2"
  },
  "language_info": {
   "codemirror_mode": {
    "name": "ipython",
    "version": 2
   },
   "file_extension": ".py",
   "mimetype": "text/x-python",
   "name": "python",
   "nbconvert_exporter": "python",
   "pygments_lexer": "ipython2",
   "version": "2.7.6"
  }
 },
 "nbformat": 4,
 "nbformat_minor": 0
}
