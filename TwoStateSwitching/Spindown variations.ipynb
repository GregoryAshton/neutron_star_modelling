{
 "metadata": {
  "name": "",
  "signature": "sha256:ea371dbfad24e03ccde3a549c3446e7d75549dfc34e7fa60e4564f3b758b85af"
 },
 "nbformat": 3,
 "nbformat_minor": 0,
 "worksheets": [
  {
   "cells": [
    {
     "cell_type": "markdown",
     "metadata": {},
     "source": [
      "# Spindown variations from free precession"
     ]
    },
    {
     "cell_type": "code",
     "collapsed": false,
     "input": [
      "from sympy import *\n",
      "init_printing()\n",
      "d = diff"
     ],
     "language": "python",
     "metadata": {},
     "outputs": [],
     "prompt_number": 1
    },
    {
     "cell_type": "code",
     "collapsed": false,
     "input": [
      "t, chi = symbols('t chi')\n",
      "theta = Function('theta')\n",
      "phi = Function('phi')\n",
      "psi = Function('psi')\n",
      "theta = theta(t)\n",
      "phi = phi(t)\n",
      "psi = psi(t)\n",
      "\n",
      "Phidot = d(psi, t) * (sin(chi) * (cos(theta) * sin(chi) - sin(psi)*sin(theta) * cos(chi)) / \n",
      "                                   ((sin(theta) * cos(chi) - cos(theta) * sin(psi) * sin(chi))**2 +\n",
      "                                    (cos(phi) * sin(chi))**2))\n",
      "Phidot"
     ],
     "language": "python",
     "metadata": {},
     "outputs": [
      {
       "latex": [
        "$$\\frac{\\left(\\sin{\\left (\\chi \\right )} \\cos{\\left (\\theta{\\left (t \\right )} \\right )} - \\sin{\\left (\\psi{\\left (t \\right )} \\right )} \\sin{\\left (\\theta{\\left (t \\right )} \\right )} \\cos{\\left (\\chi \\right )}\\right) \\sin{\\left (\\chi \\right )} \\frac{d}{d t} \\psi{\\left (t \\right )}}{\\left(- \\sin{\\left (\\chi \\right )} \\sin{\\left (\\psi{\\left (t \\right )} \\right )} \\cos{\\left (\\theta{\\left (t \\right )} \\right )} + \\sin{\\left (\\theta{\\left (t \\right )} \\right )} \\cos{\\left (\\chi \\right )}\\right)^{2} + \\sin^{2}{\\left (\\chi \\right )} \\cos^{2}{\\left (\\phi{\\left (t \\right )} \\right )}}$$"
       ],
       "metadata": {},
       "output_type": "pyout",
       "png": "[encoded data removed]",
       "prompt_number": 2,
       "text": [
        "                                                          d           \n",
        "   (sin(\u03c7)\u22c5cos(\u03b8(t)) - sin(\u03c8(t))\u22c5sin(\u03b8(t))\u22c5cos(\u03c7))\u22c5sin(\u03c7)\u22c5\u2500\u2500(\u03c8(t))    \n",
        "                                                          dt          \n",
        "\u2500\u2500\u2500\u2500\u2500\u2500\u2500\u2500\u2500\u2500\u2500\u2500\u2500\u2500\u2500\u2500\u2500\u2500\u2500\u2500\u2500\u2500\u2500\u2500\u2500\u2500\u2500\u2500\u2500\u2500\u2500\u2500\u2500\u2500\u2500\u2500\u2500\u2500\u2500\u2500\u2500\u2500\u2500\u2500\u2500\u2500\u2500\u2500\u2500\u2500\u2500\u2500\u2500\u2500\u2500\u2500\u2500\u2500\u2500\u2500\u2500\u2500\u2500\u2500\u2500\u2500\u2500\u2500\u2500\u2500\n",
        "                                                2      2       2      \n",
        "(-sin(\u03c7)\u22c5sin(\u03c8(t))\u22c5cos(\u03b8(t)) + sin(\u03b8(t))\u22c5cos(\u03c7))  + sin (\u03c7)\u22c5cos (\u03c6(t))"
       ]
      }
     ],
     "prompt_number": 2
    },
    {
     "cell_type": "code",
     "collapsed": false,
     "input": [
      "d(Phidot, t).simplify()"
     ],
     "language": "python",
     "metadata": {},
     "outputs": [
      {
       "latex": [
        "$$\\frac{\\sin{\\left (\\chi \\right )}}{\\left(\\left(\\sin{\\left (\\chi \\right )} \\sin{\\left (\\psi{\\left (t \\right )} \\right )} \\cos{\\left (\\theta{\\left (t \\right )} \\right )} - \\sin{\\left (\\theta{\\left (t \\right )} \\right )} \\cos{\\left (\\chi \\right )}\\right)^{2} + \\sin^{2}{\\left (\\chi \\right )} \\cos^{2}{\\left (\\phi{\\left (t \\right )} \\right )}\\right)^{2}} \\left(\\left(\\left(\\sin{\\left (\\chi \\right )} \\cos{\\left (\\theta{\\left (t \\right )} \\right )} - \\sin{\\left (\\psi{\\left (t \\right )} \\right )} \\sin{\\left (\\theta{\\left (t \\right )} \\right )} \\cos{\\left (\\chi \\right )}\\right) \\frac{d^{2}}{d t^{2}}  \\psi{\\left (t \\right )} - \\left(\\sin{\\left (\\chi \\right )} \\sin{\\left (\\theta{\\left (t \\right )} \\right )} \\frac{d}{d t} \\theta{\\left (t \\right )} + \\sin{\\left (\\psi{\\left (t \\right )} \\right )} \\cos{\\left (\\chi \\right )} \\cos{\\left (\\theta{\\left (t \\right )} \\right )} \\frac{d}{d t} \\theta{\\left (t \\right )} + \\sin{\\left (\\theta{\\left (t \\right )} \\right )} \\cos{\\left (\\chi \\right )} \\cos{\\left (\\psi{\\left (t \\right )} \\right )} \\frac{d}{d t} \\psi{\\left (t \\right )}\\right) \\frac{d}{d t} \\psi{\\left (t \\right )}\\right) \\left(\\left(\\sin{\\left (\\chi \\right )} \\sin{\\left (\\psi{\\left (t \\right )} \\right )} \\cos{\\left (\\theta{\\left (t \\right )} \\right )} - \\sin{\\left (\\theta{\\left (t \\right )} \\right )} \\cos{\\left (\\chi \\right )}\\right)^{2} + \\sin^{2}{\\left (\\chi \\right )} \\cos^{2}{\\left (\\phi{\\left (t \\right )} \\right )}\\right) + 2 \\left(\\left(\\sin{\\left (\\chi \\right )} \\sin{\\left (\\psi{\\left (t \\right )} \\right )} \\cos{\\left (\\theta{\\left (t \\right )} \\right )} - \\sin{\\left (\\theta{\\left (t \\right )} \\right )} \\cos{\\left (\\chi \\right )}\\right) \\left(\\sin{\\left (\\chi \\right )} \\sin{\\left (\\psi{\\left (t \\right )} \\right )} \\sin{\\left (\\theta{\\left (t \\right )} \\right )} \\frac{d}{d t} \\theta{\\left (t \\right )} - \\sin{\\left (\\chi \\right )} \\cos{\\left (\\psi{\\left (t \\right )} \\right )} \\cos{\\left (\\theta{\\left (t \\right )} \\right )} \\frac{d}{d t} \\psi{\\left (t \\right )} + \\cos{\\left (\\chi \\right )} \\cos{\\left (\\theta{\\left (t \\right )} \\right )} \\frac{d}{d t} \\theta{\\left (t \\right )}\\right) + \\sin^{2}{\\left (\\chi \\right )} \\sin{\\left (\\phi{\\left (t \\right )} \\right )} \\cos{\\left (\\phi{\\left (t \\right )} \\right )} \\frac{d}{d t} \\phi{\\left (t \\right )}\\right) \\left(\\sin{\\left (\\chi \\right )} \\cos{\\left (\\theta{\\left (t \\right )} \\right )} - \\sin{\\left (\\psi{\\left (t \\right )} \\right )} \\sin{\\left (\\theta{\\left (t \\right )} \\right )} \\cos{\\left (\\chi \\right )}\\right) \\frac{d}{d t} \\psi{\\left (t \\right )}\\right)$$"
       ],
       "metadata": {},
       "output_type": "pyout",
       "png": "[encoded data removed]",
       "prompt_number": 3,
       "text": [
        "\u239b\u239b                                                  2                         \n",
        "\u239c\u239c                                                 d          \u239b               \n",
        "\u239c\u239c(sin(\u03c7)\u22c5cos(\u03b8(t)) - sin(\u03c8(t))\u22c5sin(\u03b8(t))\u22c5cos(\u03c7))\u22c5\u2500\u2500\u2500(\u03c8(t)) - \u239csin(\u03c7)\u22c5sin(\u03b8(t)\n",
        "\u239c\u239c                                                  2         \u239d               \n",
        "\u239d\u239d                                                dt                          \n",
        "\u2500\u2500\u2500\u2500\u2500\u2500\u2500\u2500\u2500\u2500\u2500\u2500\u2500\u2500\u2500\u2500\u2500\u2500\u2500\u2500\u2500\u2500\u2500\u2500\u2500\u2500\u2500\u2500\u2500\u2500\u2500\u2500\u2500\u2500\u2500\u2500\u2500\u2500\u2500\u2500\u2500\u2500\u2500\u2500\u2500\u2500\u2500\u2500\u2500\u2500\u2500\u2500\u2500\u2500\u2500\u2500\u2500\u2500\u2500\u2500\u2500\u2500\u2500\u2500\u2500\u2500\u2500\u2500\u2500\u2500\u2500\u2500\u2500\u2500\u2500\u2500\u2500\u2500\n",
        "                                                                              \n",
        "                                                                              \n",
        "                                                                              \n",
        "\n",
        "                                                                              \n",
        "  d                                     d                                     \n",
        ")\u22c5\u2500\u2500(\u03b8(t)) + sin(\u03c8(t))\u22c5cos(\u03c7)\u22c5cos(\u03b8(t))\u22c5\u2500\u2500(\u03b8(t)) + sin(\u03b8(t))\u22c5cos(\u03c7)\u22c5cos(\u03c8(t))\u22c5\n",
        "  dt                                    dt                                    \n",
        "                                                                              \n",
        "\u2500\u2500\u2500\u2500\u2500\u2500\u2500\u2500\u2500\u2500\u2500\u2500\u2500\u2500\u2500\u2500\u2500\u2500\u2500\u2500\u2500\u2500\u2500\u2500\u2500\u2500\u2500\u2500\u2500\u2500\u2500\u2500\u2500\u2500\u2500\u2500\u2500\u2500\u2500\u2500\u2500\u2500\u2500\u2500\u2500\u2500\u2500\u2500\u2500\u2500\u2500\u2500\u2500\u2500\u2500\u2500\u2500\u2500\u2500\u2500\u2500\u2500\u2500\u2500\u2500\u2500\u2500\u2500\u2500\u2500\u2500\u2500\u2500\u2500\u2500\u2500\u2500\u2500\n",
        "                                                                              \n",
        "                                                                              \n",
        "                                                                              \n",
        "\n",
        "                  \u239e                                                           \n",
        "d       \u239e d       \u239f \u239b                                               2      2  \n",
        "\u2500\u2500(\u03c8(t))\u239f\u22c5\u2500\u2500(\u03c8(t))\u239f\u22c5\u239d(sin(\u03c7)\u22c5sin(\u03c8(t))\u22c5cos(\u03b8(t)) - sin(\u03b8(t))\u22c5cos(\u03c7))  + sin (\u03c7\n",
        "dt      \u23a0 dt      \u239f                                                           \n",
        "                  \u23a0                                                           \n",
        "\u2500\u2500\u2500\u2500\u2500\u2500\u2500\u2500\u2500\u2500\u2500\u2500\u2500\u2500\u2500\u2500\u2500\u2500\u2500\u2500\u2500\u2500\u2500\u2500\u2500\u2500\u2500\u2500\u2500\u2500\u2500\u2500\u2500\u2500\u2500\u2500\u2500\u2500\u2500\u2500\u2500\u2500\u2500\u2500\u2500\u2500\u2500\u2500\u2500\u2500\u2500\u2500\u2500\u2500\u2500\u2500\u2500\u2500\u2500\u2500\u2500\u2500\u2500\u2500\u2500\u2500\u2500\u2500\u2500\u2500\u2500\u2500\u2500\u2500\u2500\u2500\u2500\u2500\n",
        "                                                                              \n",
        "                                                               \u239b              \n",
        "                                                               \u239d(sin(\u03c7)\u22c5sin(\u03c8(\n",
        "\n",
        "                                                                              \n",
        "     2      \u239e     \u239b                                                \u239b          \n",
        ")\u22c5cos (\u03c6(t))\u23a0 + 2\u22c5\u239c(sin(\u03c7)\u22c5sin(\u03c8(t))\u22c5cos(\u03b8(t)) - sin(\u03b8(t))\u22c5cos(\u03c7))\u22c5\u239csin(\u03c7)\u22c5sin\n",
        "                  \u239d                                                \u239d          \n",
        "                                                                              \n",
        "\u2500\u2500\u2500\u2500\u2500\u2500\u2500\u2500\u2500\u2500\u2500\u2500\u2500\u2500\u2500\u2500\u2500\u2500\u2500\u2500\u2500\u2500\u2500\u2500\u2500\u2500\u2500\u2500\u2500\u2500\u2500\u2500\u2500\u2500\u2500\u2500\u2500\u2500\u2500\u2500\u2500\u2500\u2500\u2500\u2500\u2500\u2500\u2500\u2500\u2500\u2500\u2500\u2500\u2500\u2500\u2500\u2500\u2500\u2500\u2500\u2500\u2500\u2500\u2500\u2500\u2500\u2500\u2500\u2500\u2500\u2500\u2500\u2500\u2500\u2500\u2500\u2500\u2500\n",
        "                                                        2                     \n",
        "                                 2      2       2      \u239e                      \n",
        "t))\u22c5cos(\u03b8(t)) - sin(\u03b8(t))\u22c5cos(\u03c7))  + sin (\u03c7)\u22c5cos (\u03c6(t))\u23a0                      \n",
        "\n",
        "                                                                              \n",
        "                 d                                     d                      \n",
        "(\u03c8(t))\u22c5sin(\u03b8(t))\u22c5\u2500\u2500(\u03b8(t)) - sin(\u03c7)\u22c5cos(\u03c8(t))\u22c5cos(\u03b8(t))\u22c5\u2500\u2500(\u03c8(t)) + cos(\u03c7)\u22c5cos(\u03b8\n",
        "                 dt                                    dt                     \n",
        "                                                                              \n",
        "\u2500\u2500\u2500\u2500\u2500\u2500\u2500\u2500\u2500\u2500\u2500\u2500\u2500\u2500\u2500\u2500\u2500\u2500\u2500\u2500\u2500\u2500\u2500\u2500\u2500\u2500\u2500\u2500\u2500\u2500\u2500\u2500\u2500\u2500\u2500\u2500\u2500\u2500\u2500\u2500\u2500\u2500\u2500\u2500\u2500\u2500\u2500\u2500\u2500\u2500\u2500\u2500\u2500\u2500\u2500\u2500\u2500\u2500\u2500\u2500\u2500\u2500\u2500\u2500\u2500\u2500\u2500\u2500\u2500\u2500\u2500\u2500\u2500\u2500\u2500\u2500\u2500\u2500\n",
        "                                                                              \n",
        "                                                                              \n",
        "                                                                              \n",
        "\n",
        "                                                                              \n",
        "     d       \u239e      2                        d       \u239e                        \n",
        "(t))\u22c5\u2500\u2500(\u03b8(t))\u239f + sin (\u03c7)\u22c5sin(\u03c6(t))\u22c5cos(\u03c6(t))\u22c5\u2500\u2500(\u03c6(t))\u239f\u22c5(sin(\u03c7)\u22c5cos(\u03b8(t)) - sin\n",
        "     dt      \u23a0                               dt      \u23a0                        \n",
        "                                                                              \n",
        "\u2500\u2500\u2500\u2500\u2500\u2500\u2500\u2500\u2500\u2500\u2500\u2500\u2500\u2500\u2500\u2500\u2500\u2500\u2500\u2500\u2500\u2500\u2500\u2500\u2500\u2500\u2500\u2500\u2500\u2500\u2500\u2500\u2500\u2500\u2500\u2500\u2500\u2500\u2500\u2500\u2500\u2500\u2500\u2500\u2500\u2500\u2500\u2500\u2500\u2500\u2500\u2500\u2500\u2500\u2500\u2500\u2500\u2500\u2500\u2500\u2500\u2500\u2500\u2500\u2500\u2500\u2500\u2500\u2500\u2500\u2500\u2500\u2500\u2500\u2500\u2500\u2500\u2500\n",
        "                                                                              \n",
        "                                                                              \n",
        "                                                                              \n",
        "\n",
        "                                 \u239e       \n",
        "                         d       \u239f       \n",
        "(\u03c8(t))\u22c5sin(\u03b8(t))\u22c5cos(\u03c7))\u22c5\u2500\u2500(\u03c8(t))\u239f\u22c5sin(\u03c7)\n",
        "                         dt      \u239f       \n",
        "                                 \u23a0       \n",
        "\u2500\u2500\u2500\u2500\u2500\u2500\u2500\u2500\u2500\u2500\u2500\u2500\u2500\u2500\u2500\u2500\u2500\u2500\u2500\u2500\u2500\u2500\u2500\u2500\u2500\u2500\u2500\u2500\u2500\u2500\u2500\u2500\u2500\u2500\u2500\u2500\u2500\u2500\u2500\u2500\u2500\n",
        "                                         \n",
        "                                         \n",
        "                                         "
       ]
      }
     ],
     "prompt_number": 3
    },
    {
     "cell_type": "markdown",
     "metadata": {},
     "source": [
      "### Spindown variations from EM torque"
     ]
    },
    {
     "cell_type": "code",
     "collapsed": false,
     "input": [
      "import numpy as np\n",
      "\n",
      "def omega_dot(Bs, chi0, omega0, R=1e6, c=3e10, I0=1e45):\n",
      "    return  (- Bs**2 * R ** 6 * np.sin(chi0)**2 * omega0**3 / \n",
      "                        (6 * I0 * c**3))\n",
      "\n",
      "Bs = 1e16\n",
      "chi0 = np.radians(10)\n",
      "omega0 = 60\n",
      "print omega_dot(Bs, chi0, omega0)"
     ],
     "language": "python",
     "metadata": {},
     "outputs": [
      {
       "output_type": "stream",
       "stream": "stdout",
       "text": [
        "-4.02049194761e-06\n"
       ]
      }
     ],
     "prompt_number": 23
    },
    {
     "cell_type": "code",
     "collapsed": false,
     "input": [],
     "language": "python",
     "metadata": {},
     "outputs": []
    }
   ],
   "metadata": {}
  }
 ]
}