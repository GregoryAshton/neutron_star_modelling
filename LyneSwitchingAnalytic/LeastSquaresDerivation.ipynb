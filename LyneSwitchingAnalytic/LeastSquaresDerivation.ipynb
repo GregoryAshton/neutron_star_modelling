{
 "metadata": {
  "kernelspec": {
   "codemirror_mode": {
    "name": "ipython",
    "version": 2
   },
   "display_name": "IPython (Python 2)",
   "language": "python",
   "name": "python2",
   "pygments_lexer": "ipython2"
  },
  "name": "",
  "signature": "sha256:dff18b09d9ead4853c878331ec83d75939a2a8e55383e11fdec4dade2d64fb10"
 },
 "nbformat": 3,
 "nbformat_minor": 0,
 "worksheets": [
  {
   "cells": [
    {
     "cell_type": "code",
     "collapsed": false,
     "input": [
      "from sympy import *\n",
      "init_printing()"
     ],
     "language": "python",
     "metadata": {},
     "outputs": [],
     "prompt_number": 1
    },
    {
     "cell_type": "code",
     "collapsed": false,
     "input": [
      "dPA, dPB = symbols('\\Delta\\Phi_{A} \\Delta\\Phi_{B}')\n",
      "dFA, dFB = symbols('\\Delta{f}_{A} \\Delta{f}_{B}')\n",
      "dSA, dSB = symbols('\\Delta\\dot{f}_{A} \\Delta\\dot{f}_{B}')\n",
      "dST = symbols('\\Delta\\dot{f}_{T}')\n",
      "\n",
      "dSB = dSA - dST\n",
      "\n",
      "T, R = symbols('T R')\n",
      "t = symbols('t')\n",
      "\n",
      "tRA = T*R/2\n",
      "tRB = T*(R+1)/2\n",
      "\n",
      "DeltaPhiA = dPA + 2*pi*(dFA * (t - tRA) + dSA/2 * (t-tRA)**2)\n",
      "DeltaPhiB = dPB + 2*pi*(dFB * (t - tRB) + dSB/2 * (t-tRB)**2)\n",
      "DeltaPhiB"
     ],
     "language": "python",
     "metadata": {},
     "outputs": [
      {
       "latex": [
        "$$\\Delta\\Phi_{{B}} + 2 \\pi \\left(\\Delta{f}_{{B}} \\left(- \\frac{T}{2} \\left(R + 1\\right) + t\\right) + \\left(\\frac{\\Delta\\dot{f}_{{A}}}{2} - \\frac{\\Delta\\dot{f}_{{T}}}{2}\\right) \\left(- \\frac{T}{2} \\left(R + 1\\right) + t\\right)^{2}\\right)$$"
       ],
       "metadata": {},
       "output_type": "pyout",
       "png": "[encoded data removed]",
       "prompt_number": 2,
       "text": [
        "                     \u239b                                                        \n",
        "                     \u239c              \u239b  T\u22c5(R + 1)    \u239e   \u239b\\Delta\\dot{f}_{A}   \\\n",
        "\\Delta\\Phi_{B} + 2\u22c5\u03c0\u22c5\u239c\\Delta{f}_{B}\u22c5\u239c- \u2500\u2500\u2500\u2500\u2500\u2500\u2500\u2500\u2500 + t\u239f + \u239c\u2500\u2500\u2500\u2500\u2500\u2500\u2500\u2500\u2500\u2500\u2500\u2500\u2500\u2500\u2500\u2500\u2500 - \u2500\n",
        "                     \u239d              \u239d      2        \u23a0   \u239d        2            \n",
        "\n",
        "                                   2\u239e\n",
        "Delta\\dot{f}_{T}\u239e \u239b  T\u22c5(R + 1)    \u239e \u239f\n",
        "\u2500\u2500\u2500\u2500\u2500\u2500\u2500\u2500\u2500\u2500\u2500\u2500\u2500\u2500\u2500\u2500\u239f\u22c5\u239c- \u2500\u2500\u2500\u2500\u2500\u2500\u2500\u2500\u2500 + t\u239f \u239f\n",
        "       2        \u23a0 \u239d      2        \u23a0 \u23a0"
       ]
      }
     ],
     "prompt_number": 2
    },
    {
     "cell_type": "code",
     "collapsed": false,
     "input": [
      "S = integrate(DeltaPhiA**2, (t, 0, R*T)) + integrate(DeltaPhiB**2, (t, R*T, T))\n",
      "S = simplify(S)\n",
      "S"
     ],
     "language": "python",
     "metadata": {},
     "outputs": [
      {
       "latex": [
        "$$\\frac{\\Delta\\dot{f}_{{A}} \\Delta\\dot{f}_{{T}}}{40} \\pi^{2} R^{5} T^{5} - \\frac{\\pi^{2} R^{5}}{80} T^{5} \\Delta\\dot{f}_{{T}}^{2} + \\frac{\\pi^{2} R^{4}}{16} T^{5} \\Delta\\dot{f}_{{A}}^{2} - \\frac{\\Delta\\dot{f}_{{A}} \\Delta\\dot{f}_{{T}}}{8} \\pi^{2} R^{4} T^{5} + \\frac{\\pi^{2} R^{4}}{16} T^{5} \\Delta\\dot{f}_{{T}}^{2} - \\frac{\\pi^{2} R^{3}}{8} T^{5} \\Delta\\dot{f}_{{A}}^{2} + \\frac{\\Delta\\dot{f}_{{A}} \\Delta\\dot{f}_{{T}}}{4} \\pi^{2} R^{3} T^{5} - \\frac{\\pi^{2} R^{3}}{8} T^{5} \\Delta\\dot{f}_{{T}}^{2} + \\frac{\\pi \\Delta\\Phi_{{A}}}{6} R^{3} T^{3} \\Delta\\dot{f}_{{A}} - \\frac{\\pi \\Delta\\Phi_{{B}}}{6} R^{3} T^{3} \\Delta\\dot{f}_{{A}} + \\frac{\\pi \\Delta\\Phi_{{B}}}{6} R^{3} T^{3} \\Delta\\dot{f}_{{T}} + \\frac{\\pi^{2} R^{3}}{3} T^{3} \\Delta{f}_{{A}}^{2} - \\frac{\\pi^{2} R^{3}}{3} T^{3} \\Delta{f}_{{B}}^{2} + \\frac{\\pi^{2} R^{2}}{8} T^{5} \\Delta\\dot{f}_{{A}}^{2} - \\frac{\\Delta\\dot{f}_{{A}} \\Delta\\dot{f}_{{T}}}{4} \\pi^{2} R^{2} T^{5} + \\frac{\\pi^{2} R^{2}}{8} T^{5} \\Delta\\dot{f}_{{T}}^{2} + \\frac{\\pi \\Delta\\Phi_{{B}}}{2} R^{2} T^{3} \\Delta\\dot{f}_{{A}} - \\frac{\\pi \\Delta\\Phi_{{B}}}{2} R^{2} T^{3} \\Delta\\dot{f}_{{T}} + \\pi^{2} R^{2} T^{3} \\Delta{f}_{{B}}^{2} - \\frac{\\pi^{2} R}{16} T^{5} \\Delta\\dot{f}_{{A}}^{2} + \\frac{R \\Delta\\dot{f}_{{A}}}{8} \\pi^{2} T^{5} \\Delta\\dot{f}_{{T}} - \\frac{\\pi^{2} R}{16} T^{5} \\Delta\\dot{f}_{{T}}^{2} - \\frac{\\pi R}{2} T^{3} \\Delta\\Phi_{{B}} \\Delta\\dot{f}_{{A}} + \\frac{\\pi R}{2} T^{3} \\Delta\\Phi_{{B}} \\Delta\\dot{f}_{{T}} - \\pi^{2} R T^{3} \\Delta{f}_{{B}}^{2} + R T \\Delta\\Phi_{{A}}^{2} - R T \\Delta\\Phi_{{B}}^{2} + \\frac{\\pi^{2} T^{5}}{80} \\Delta\\dot{f}_{{A}}^{2} - \\frac{\\Delta\\dot{f}_{{A}} \\Delta\\dot{f}_{{T}}}{40} \\pi^{2} T^{5} + \\frac{\\pi^{2} T^{5}}{80} \\Delta\\dot{f}_{{T}}^{2} + \\frac{\\pi \\Delta\\Phi_{{B}}}{6} T^{3} \\Delta\\dot{f}_{{A}} - \\frac{\\pi \\Delta\\Phi_{{B}}}{6} T^{3} \\Delta\\dot{f}_{{T}} + \\frac{\\pi^{2} T^{3}}{3} \\Delta{f}_{{B}}^{2} + T \\Delta\\Phi_{{B}}^{2}$$"
       ],
       "metadata": {},
       "output_type": "pyout",
       "png": "[encoded data removed]",
       "prompt_number": 3,
       "text": [
        " 2  5  5                                        2  5  5                  2    \n",
        "\u03c0 \u22c5R \u22c5T \u22c5\\Delta\\dot{f}_{A}\u22c5\\Delta\\dot{f}_{T}   \u03c0 \u22c5R \u22c5T \u22c5\\Delta\\dot{f}_{T}    \u03c0\n",
        "\u2500\u2500\u2500\u2500\u2500\u2500\u2500\u2500\u2500\u2500\u2500\u2500\u2500\u2500\u2500\u2500\u2500\u2500\u2500\u2500\u2500\u2500\u2500\u2500\u2500\u2500\u2500\u2500\u2500\u2500\u2500\u2500\u2500\u2500\u2500\u2500\u2500\u2500\u2500\u2500\u2500\u2500\u2500\u2500 - \u2500\u2500\u2500\u2500\u2500\u2500\u2500\u2500\u2500\u2500\u2500\u2500\u2500\u2500\u2500\u2500\u2500\u2500\u2500\u2500\u2500\u2500\u2500\u2500\u2500\u2500\u2500 + \u2500\n",
        "                     40                                     80                \n",
        "\n",
        "2  4  5                  2    2  4  5                                        2\n",
        " \u22c5R \u22c5T \u22c5\\Delta\\dot{f}_{A}    \u03c0 \u22c5R \u22c5T \u22c5\\Delta\\dot{f}_{A}\u22c5\\Delta\\dot{f}_{T}   \u03c0 \n",
        "\u2500\u2500\u2500\u2500\u2500\u2500\u2500\u2500\u2500\u2500\u2500\u2500\u2500\u2500\u2500\u2500\u2500\u2500\u2500\u2500\u2500\u2500\u2500\u2500\u2500\u2500 - \u2500\u2500\u2500\u2500\u2500\u2500\u2500\u2500\u2500\u2500\u2500\u2500\u2500\u2500\u2500\u2500\u2500\u2500\u2500\u2500\u2500\u2500\u2500\u2500\u2500\u2500\u2500\u2500\u2500\u2500\u2500\u2500\u2500\u2500\u2500\u2500\u2500\u2500\u2500\u2500\u2500\u2500\u2500\u2500 + \u2500\u2500\n",
        "            16                                    8                           \n",
        "\n",
        "  4  5                  2    2  3  5                  2    2  3  5            \n",
        "\u22c5R \u22c5T \u22c5\\Delta\\dot{f}_{T}    \u03c0 \u22c5R \u22c5T \u22c5\\Delta\\dot{f}_{A}    \u03c0 \u22c5R \u22c5T \u22c5\\Delta\\dot{\n",
        "\u2500\u2500\u2500\u2500\u2500\u2500\u2500\u2500\u2500\u2500\u2500\u2500\u2500\u2500\u2500\u2500\u2500\u2500\u2500\u2500\u2500\u2500\u2500\u2500\u2500 - \u2500\u2500\u2500\u2500\u2500\u2500\u2500\u2500\u2500\u2500\u2500\u2500\u2500\u2500\u2500\u2500\u2500\u2500\u2500\u2500\u2500\u2500\u2500\u2500\u2500\u2500\u2500 + \u2500\u2500\u2500\u2500\u2500\u2500\u2500\u2500\u2500\u2500\u2500\u2500\u2500\u2500\u2500\u2500\u2500\u2500\u2500\u2500\n",
        "           16                            8                                    \n",
        "\n",
        "                            2  3  5                  2      3  3              \n",
        "f}_{A}\u22c5\\Delta\\dot{f}_{T}   \u03c0 \u22c5R \u22c5T \u22c5\\Delta\\dot{f}_{T}    \u03c0\u22c5R \u22c5T \u22c5\\Delta\\Phi_{A\n",
        "\u2500\u2500\u2500\u2500\u2500\u2500\u2500\u2500\u2500\u2500\u2500\u2500\u2500\u2500\u2500\u2500\u2500\u2500\u2500\u2500\u2500\u2500\u2500\u2500 - \u2500\u2500\u2500\u2500\u2500\u2500\u2500\u2500\u2500\u2500\u2500\u2500\u2500\u2500\u2500\u2500\u2500\u2500\u2500\u2500\u2500\u2500\u2500\u2500\u2500\u2500\u2500 + \u2500\u2500\u2500\u2500\u2500\u2500\u2500\u2500\u2500\u2500\u2500\u2500\u2500\u2500\u2500\u2500\u2500\u2500\u2500\u2500\u2500\n",
        " 4                                      8                                   6 \n",
        "\n",
        "                         3  3                                       3  3      \n",
        "}\u22c5\\Delta\\dot{f}_{A}   \u03c0\u22c5R \u22c5T \u22c5\\Delta\\Phi_{B}\u22c5\\Delta\\dot{f}_{A}   \u03c0\u22c5R \u22c5T \u22c5\\Delt\n",
        "\u2500\u2500\u2500\u2500\u2500\u2500\u2500\u2500\u2500\u2500\u2500\u2500\u2500\u2500\u2500\u2500\u2500\u2500\u2500 - \u2500\u2500\u2500\u2500\u2500\u2500\u2500\u2500\u2500\u2500\u2500\u2500\u2500\u2500\u2500\u2500\u2500\u2500\u2500\u2500\u2500\u2500\u2500\u2500\u2500\u2500\u2500\u2500\u2500\u2500\u2500\u2500\u2500\u2500\u2500\u2500\u2500\u2500\u2500\u2500 + \u2500\u2500\u2500\u2500\u2500\u2500\u2500\u2500\u2500\u2500\u2500\u2500\u2500\n",
        "                                         6                                    \n",
        "\n",
        "                               2  3  3              2    2  3  3              \n",
        "a\\Phi_{B}\u22c5\\Delta\\dot{f}_{T}   \u03c0 \u22c5R \u22c5T \u22c5\\Delta{f}_{A}    \u03c0 \u22c5R \u22c5T \u22c5\\Delta{f}_{B}\n",
        "\u2500\u2500\u2500\u2500\u2500\u2500\u2500\u2500\u2500\u2500\u2500\u2500\u2500\u2500\u2500\u2500\u2500\u2500\u2500\u2500\u2500\u2500\u2500\u2500\u2500\u2500\u2500 + \u2500\u2500\u2500\u2500\u2500\u2500\u2500\u2500\u2500\u2500\u2500\u2500\u2500\u2500\u2500\u2500\u2500\u2500\u2500\u2500\u2500\u2500\u2500 - \u2500\u2500\u2500\u2500\u2500\u2500\u2500\u2500\u2500\u2500\u2500\u2500\u2500\u2500\u2500\u2500\u2500\u2500\u2500\u2500\u2500\u2500\n",
        "      6                                  3                         3          \n",
        "\n",
        "2    2  2  5                  2    2  2  5                                    \n",
        "    \u03c0 \u22c5R \u22c5T \u22c5\\Delta\\dot{f}_{A}    \u03c0 \u22c5R \u22c5T \u22c5\\Delta\\dot{f}_{A}\u22c5\\Delta\\dot{f}_{T}\n",
        "\u2500 + \u2500\u2500\u2500\u2500\u2500\u2500\u2500\u2500\u2500\u2500\u2500\u2500\u2500\u2500\u2500\u2500\u2500\u2500\u2500\u2500\u2500\u2500\u2500\u2500\u2500\u2500\u2500 - \u2500\u2500\u2500\u2500\u2500\u2500\u2500\u2500\u2500\u2500\u2500\u2500\u2500\u2500\u2500\u2500\u2500\u2500\u2500\u2500\u2500\u2500\u2500\u2500\u2500\u2500\u2500\u2500\u2500\u2500\u2500\u2500\u2500\u2500\u2500\u2500\u2500\u2500\u2500\u2500\u2500\u2500\u2500\u2500\n",
        "                 8                                     4                      \n",
        "\n",
        "    2  2  5                  2      2  3                                      \n",
        "   \u03c0 \u22c5R \u22c5T \u22c5\\Delta\\dot{f}_{T}    \u03c0\u22c5R \u22c5T \u22c5\\Delta\\Phi_{B}\u22c5\\Delta\\dot{f}_{A}   \u03c0\u22c5\n",
        " + \u2500\u2500\u2500\u2500\u2500\u2500\u2500\u2500\u2500\u2500\u2500\u2500\u2500\u2500\u2500\u2500\u2500\u2500\u2500\u2500\u2500\u2500\u2500\u2500\u2500\u2500\u2500 + \u2500\u2500\u2500\u2500\u2500\u2500\u2500\u2500\u2500\u2500\u2500\u2500\u2500\u2500\u2500\u2500\u2500\u2500\u2500\u2500\u2500\u2500\u2500\u2500\u2500\u2500\u2500\u2500\u2500\u2500\u2500\u2500\u2500\u2500\u2500\u2500\u2500\u2500\u2500\u2500 - \u2500\u2500\n",
        "                8                                   2                         \n",
        "\n",
        " 2  3                                                               2    5    \n",
        "R \u22c5T \u22c5\\Delta\\Phi_{B}\u22c5\\Delta\\dot{f}_{T}    2  2  3              2   \u03c0 \u22c5R\u22c5T \u22c5\\De\n",
        "\u2500\u2500\u2500\u2500\u2500\u2500\u2500\u2500\u2500\u2500\u2500\u2500\u2500\u2500\u2500\u2500\u2500\u2500\u2500\u2500\u2500\u2500\u2500\u2500\u2500\u2500\u2500\u2500\u2500\u2500\u2500\u2500\u2500\u2500\u2500\u2500\u2500\u2500 + \u03c0 \u22c5R \u22c5T \u22c5\\Delta{f}_{B}  - \u2500\u2500\u2500\u2500\u2500\u2500\u2500\u2500\u2500\u2500\u2500\n",
        "                 2                                                            \n",
        "\n",
        "              2    2    5                                        2    5       \n",
        "lta\\dot{f}_{A}    \u03c0 \u22c5R\u22c5T \u22c5\\Delta\\dot{f}_{A}\u22c5\\Delta\\dot{f}_{T}   \u03c0 \u22c5R\u22c5T \u22c5\\Delta\n",
        "\u2500\u2500\u2500\u2500\u2500\u2500\u2500\u2500\u2500\u2500\u2500\u2500\u2500\u2500\u2500 + \u2500\u2500\u2500\u2500\u2500\u2500\u2500\u2500\u2500\u2500\u2500\u2500\u2500\u2500\u2500\u2500\u2500\u2500\u2500\u2500\u2500\u2500\u2500\u2500\u2500\u2500\u2500\u2500\u2500\u2500\u2500\u2500\u2500\u2500\u2500\u2500\u2500\u2500\u2500\u2500\u2500\u2500\u2500 - \u2500\u2500\u2500\u2500\u2500\u2500\u2500\u2500\u2500\u2500\u2500\u2500\u2500\u2500\n",
        " 16                                    8                                    16\n",
        "\n",
        "           2        3                                         3               \n",
        "\\dot{f}_{T}    \u03c0\u22c5R\u22c5T \u22c5\\Delta\\Phi_{B}\u22c5\\Delta\\dot{f}_{A}   \u03c0\u22c5R\u22c5T \u22c5\\Delta\\Phi_{B}\n",
        "\u2500\u2500\u2500\u2500\u2500\u2500\u2500\u2500\u2500\u2500\u2500\u2500 - \u2500\u2500\u2500\u2500\u2500\u2500\u2500\u2500\u2500\u2500\u2500\u2500\u2500\u2500\u2500\u2500\u2500\u2500\u2500\u2500\u2500\u2500\u2500\u2500\u2500\u2500\u2500\u2500\u2500\u2500\u2500\u2500\u2500\u2500\u2500\u2500\u2500\u2500\u2500 + \u2500\u2500\u2500\u2500\u2500\u2500\u2500\u2500\u2500\u2500\u2500\u2500\u2500\u2500\u2500\u2500\u2500\u2500\u2500\u2500\u2500\n",
        "                                  2                                         2 \n",
        "\n",
        "                                                                              \n",
        "\u22c5\\Delta\\dot{f}_{T}    2    3              2                     2             \n",
        "\u2500\u2500\u2500\u2500\u2500\u2500\u2500\u2500\u2500\u2500\u2500\u2500\u2500\u2500\u2500\u2500\u2500\u2500 - \u03c0 \u22c5R\u22c5T \u22c5\\Delta{f}_{B}  + R\u22c5T\u22c5\\Delta\\Phi_{A}  - R\u22c5T\u22c5\\Delta\n",
        "                                                                              \n",
        "\n",
        "             2  5                  2    2  5                                  \n",
        "        2   \u03c0 \u22c5T \u22c5\\Delta\\dot{f}_{A}    \u03c0 \u22c5T \u22c5\\Delta\\dot{f}_{A}\u22c5\\Delta\\dot{f}_{\n",
        "\\Phi_{B}  + \u2500\u2500\u2500\u2500\u2500\u2500\u2500\u2500\u2500\u2500\u2500\u2500\u2500\u2500\u2500\u2500\u2500\u2500\u2500\u2500\u2500\u2500\u2500\u2500 - \u2500\u2500\u2500\u2500\u2500\u2500\u2500\u2500\u2500\u2500\u2500\u2500\u2500\u2500\u2500\u2500\u2500\u2500\u2500\u2500\u2500\u2500\u2500\u2500\u2500\u2500\u2500\u2500\u2500\u2500\u2500\u2500\u2500\u2500\u2500\u2500\u2500\u2500\u2500\n",
        "                       80                                  40                 \n",
        "\n",
        "      2  5                  2      3                                       3  \n",
        "T}   \u03c0 \u22c5T \u22c5\\Delta\\dot{f}_{T}    \u03c0\u22c5T \u22c5\\Delta\\Phi_{B}\u22c5\\Delta\\dot{f}_{A}   \u03c0\u22c5T \u22c5\\\n",
        "\u2500\u2500 + \u2500\u2500\u2500\u2500\u2500\u2500\u2500\u2500\u2500\u2500\u2500\u2500\u2500\u2500\u2500\u2500\u2500\u2500\u2500\u2500\u2500\u2500\u2500\u2500 + \u2500\u2500\u2500\u2500\u2500\u2500\u2500\u2500\u2500\u2500\u2500\u2500\u2500\u2500\u2500\u2500\u2500\u2500\u2500\u2500\u2500\u2500\u2500\u2500\u2500\u2500\u2500\u2500\u2500\u2500\u2500\u2500\u2500\u2500\u2500\u2500\u2500 - \u2500\u2500\u2500\u2500\u2500\u2500\n",
        "                80                                6                           \n",
        "\n",
        "                                   2  3              2                    \n",
        "Delta\\Phi_{B}\u22c5\\Delta\\dot{f}_{T}   \u03c0 \u22c5T \u22c5\\Delta{f}_{B}                    2\n",
        "\u2500\u2500\u2500\u2500\u2500\u2500\u2500\u2500\u2500\u2500\u2500\u2500\u2500\u2500\u2500\u2500\u2500\u2500\u2500\u2500\u2500\u2500\u2500\u2500\u2500\u2500\u2500\u2500\u2500\u2500\u2500 + \u2500\u2500\u2500\u2500\u2500\u2500\u2500\u2500\u2500\u2500\u2500\u2500\u2500\u2500\u2500\u2500\u2500\u2500\u2500\u2500 + T\u22c5\\Delta\\Phi_{B} \n",
        "            6                              3                              "
       ]
      }
     ],
     "prompt_number": 3
    },
    {
     "cell_type": "code",
     "collapsed": false,
     "input": [
      "dPA_min = solve(diff(S, dPA), dPA)[0]\n",
      "dPA_min"
     ],
     "language": "python",
     "metadata": {},
     "outputs": [
      {
       "latex": [
        "$$- \\frac{\\pi \\Delta\\dot{f}_{{A}}}{12} R^{2} T^{2}$$"
       ],
       "metadata": {},
       "output_type": "pyout",
       "png": "[encoded data removed]",
       "prompt_number": 4,
       "text": [
        "    2  2                   \n",
        "-\u03c0\u22c5R \u22c5T \u22c5\\Delta\\dot{f}_{A} \n",
        "\u2500\u2500\u2500\u2500\u2500\u2500\u2500\u2500\u2500\u2500\u2500\u2500\u2500\u2500\u2500\u2500\u2500\u2500\u2500\u2500\u2500\u2500\u2500\u2500\u2500\u2500\u2500\n",
        "             12            "
       ]
      }
     ],
     "prompt_number": 4
    },
    {
     "cell_type": "code",
     "collapsed": false,
     "input": [
      "dPB_min = solve(diff(S, dPB), dPB)[0]\n",
      "factor(dPB_min)"
     ],
     "language": "python",
     "metadata": {},
     "outputs": [
      {
       "latex": [
        "$$- \\frac{\\pi T^{2}}{12} \\left(R - 1\\right)^{2} \\left(\\Delta\\dot{f}_{{A}} - \\Delta\\dot{f}_{{T}}\\right)$$"
       ],
       "metadata": {},
       "output_type": "pyout",
       "png": "[encoded data removed]",
       "prompt_number": 5,
       "text": [
        "    2        2                                         \n",
        "-\u03c0\u22c5T \u22c5(R - 1) \u22c5(\\Delta\\dot{f}_{A} - \\Delta\\dot{f}_{T}) \n",
        "\u2500\u2500\u2500\u2500\u2500\u2500\u2500\u2500\u2500\u2500\u2500\u2500\u2500\u2500\u2500\u2500\u2500\u2500\u2500\u2500\u2500\u2500\u2500\u2500\u2500\u2500\u2500\u2500\u2500\u2500\u2500\u2500\u2500\u2500\u2500\u2500\u2500\u2500\u2500\u2500\u2500\u2500\u2500\u2500\u2500\u2500\u2500\u2500\u2500\u2500\u2500\u2500\u2500\u2500\u2500\n",
        "                           12                          "
       ]
      }
     ],
     "prompt_number": 5
    },
    {
     "cell_type": "code",
     "collapsed": false,
     "input": [
      "solve(diff(S, dFA), dFA)"
     ],
     "language": "python",
     "metadata": {},
     "outputs": [
      {
       "latex": [
        "$$\\begin{bmatrix}0\\end{bmatrix}$$"
       ],
       "metadata": {},
       "output_type": "pyout",
       "png": "[encoded data removed]",
       "prompt_number": 6,
       "text": [
        "[0]"
       ]
      }
     ],
     "prompt_number": 6
    },
    {
     "cell_type": "code",
     "collapsed": false,
     "input": [
      "solve(diff(S, dFB), dFB)"
     ],
     "language": "python",
     "metadata": {},
     "outputs": [
      {
       "latex": [
        "$$\\begin{bmatrix}0\\end{bmatrix}$$"
       ],
       "metadata": {},
       "output_type": "pyout",
       "png": "[encoded data removed]",
       "prompt_number": 7,
       "text": [
        "[0]"
       ]
      }
     ],
     "prompt_number": 7
    },
    {
     "cell_type": "code",
     "collapsed": false,
     "input": [
      "dSA_min = solve(diff(S, dSA), dSA)[0]\n",
      "dSA_min = simplify(dSA_min)\n",
      "dSA_min"
     ],
     "language": "python",
     "metadata": {},
     "outputs": [
      {
       "latex": [
        "$$\\frac{1}{3 \\pi T^{2} \\left(5 R^{4} - 10 R^{3} + 10 R^{2} - 5 R + 1\\right)} \\left(- 3 \\pi R^{5} T^{2} \\Delta\\dot{f}_{{T}} + 15 \\pi R^{4} T^{2} \\Delta\\dot{f}_{{T}} - 30 \\pi R^{3} T^{2} \\Delta\\dot{f}_{{T}} - 20 R^{3} \\Delta\\Phi_{{A}} + 20 R^{3} \\Delta\\Phi_{{B}} + 30 \\pi R^{2} T^{2} \\Delta\\dot{f}_{{T}} - 60 R^{2} \\Delta\\Phi_{{B}} - 15 \\pi R T^{2} \\Delta\\dot{f}_{{T}} + 60 R \\Delta\\Phi_{{B}} + 3 \\pi T^{2} \\Delta\\dot{f}_{{T}} - 20 \\Delta\\Phi_{{B}}\\right)$$"
       ],
       "metadata": {},
       "output_type": "pyout",
       "png": "[encoded data removed]",
       "prompt_number": 6,
       "text": [
        "       5  2                           4  2                           3  2     \n",
        "- 3\u22c5\u03c0\u22c5R \u22c5T \u22c5\\Delta\\dot{f}_{T} + 15\u22c5\u03c0\u22c5R \u22c5T \u22c5\\Delta\\dot{f}_{T} - 30\u22c5\u03c0\u22c5R \u22c5T \u22c5\\Del\n",
        "\u2500\u2500\u2500\u2500\u2500\u2500\u2500\u2500\u2500\u2500\u2500\u2500\u2500\u2500\u2500\u2500\u2500\u2500\u2500\u2500\u2500\u2500\u2500\u2500\u2500\u2500\u2500\u2500\u2500\u2500\u2500\u2500\u2500\u2500\u2500\u2500\u2500\u2500\u2500\u2500\u2500\u2500\u2500\u2500\u2500\u2500\u2500\u2500\u2500\u2500\u2500\u2500\u2500\u2500\u2500\u2500\u2500\u2500\u2500\u2500\u2500\u2500\u2500\u2500\u2500\u2500\u2500\u2500\u2500\u2500\u2500\u2500\u2500\u2500\u2500\u2500\u2500\u2500\n",
        "                                                                              \n",
        "                                                                              \n",
        "\n",
        "                    3                      3                        2  2      \n",
        "ta\\dot{f}_{T} - 20\u22c5R \u22c5\\Delta\\Phi_{A} + 20\u22c5R \u22c5\\Delta\\Phi_{B} + 30\u22c5\u03c0\u22c5R \u22c5T \u22c5\\Delt\n",
        "\u2500\u2500\u2500\u2500\u2500\u2500\u2500\u2500\u2500\u2500\u2500\u2500\u2500\u2500\u2500\u2500\u2500\u2500\u2500\u2500\u2500\u2500\u2500\u2500\u2500\u2500\u2500\u2500\u2500\u2500\u2500\u2500\u2500\u2500\u2500\u2500\u2500\u2500\u2500\u2500\u2500\u2500\u2500\u2500\u2500\u2500\u2500\u2500\u2500\u2500\u2500\u2500\u2500\u2500\u2500\u2500\u2500\u2500\u2500\u2500\u2500\u2500\u2500\u2500\u2500\u2500\u2500\u2500\u2500\u2500\u2500\u2500\u2500\u2500\u2500\u2500\u2500\u2500\n",
        "                                                    2 \u239b   4       3       2   \n",
        "                                               3\u22c5\u03c0\u22c5T \u22c5\u239d5\u22c5R  - 10\u22c5R  + 10\u22c5R  - \n",
        "\n",
        "                   2                          2                               \n",
        "a\\dot{f}_{T} - 60\u22c5R \u22c5\\Delta\\Phi_{B} - 15\u22c5\u03c0\u22c5R\u22c5T \u22c5\\Delta\\dot{f}_{T} + 60\u22c5R\u22c5\\Delt\n",
        "\u2500\u2500\u2500\u2500\u2500\u2500\u2500\u2500\u2500\u2500\u2500\u2500\u2500\u2500\u2500\u2500\u2500\u2500\u2500\u2500\u2500\u2500\u2500\u2500\u2500\u2500\u2500\u2500\u2500\u2500\u2500\u2500\u2500\u2500\u2500\u2500\u2500\u2500\u2500\u2500\u2500\u2500\u2500\u2500\u2500\u2500\u2500\u2500\u2500\u2500\u2500\u2500\u2500\u2500\u2500\u2500\u2500\u2500\u2500\u2500\u2500\u2500\u2500\u2500\u2500\u2500\u2500\u2500\u2500\u2500\u2500\u2500\u2500\u2500\u2500\u2500\u2500\u2500\n",
        "       \u239e                                                                      \n",
        "5\u22c5R + 1\u23a0                                                                      \n",
        "\n",
        "                 2                                      \n",
        "a\\Phi_{B} + 3\u22c5\u03c0\u22c5T \u22c5\\Delta\\dot{f}_{T} - 20\u22c5\\Delta\\Phi_{B}\n",
        "\u2500\u2500\u2500\u2500\u2500\u2500\u2500\u2500\u2500\u2500\u2500\u2500\u2500\u2500\u2500\u2500\u2500\u2500\u2500\u2500\u2500\u2500\u2500\u2500\u2500\u2500\u2500\u2500\u2500\u2500\u2500\u2500\u2500\u2500\u2500\u2500\u2500\u2500\u2500\u2500\u2500\u2500\u2500\u2500\u2500\u2500\u2500\u2500\u2500\u2500\u2500\u2500\u2500\u2500\u2500\u2500\n",
        "                                                        \n",
        "                                                        "
       ]
      }
     ],
     "prompt_number": 6
    },
    {
     "cell_type": "code",
     "collapsed": false,
     "input": [
      "dSA_min1 = solve(Eq(dSA, dSA_min.subs(dPA, dPA_min).subs(dPB, dPB_min)), dSA)[0]\n",
      "factor(dSA_min1)"
     ],
     "language": "python",
     "metadata": {},
     "outputs": [
      {
       "latex": [
        "$$- \\frac{\\Delta\\dot{f}_{{T}} \\left(R - 1\\right)^{5}}{5 R^{4} - 10 R^{3} + 10 R^{2} - 5 R + 1}$$"
       ],
       "metadata": {},
       "output_type": "pyout",
       "png": "[encoded data removed]",
       "prompt_number": 11,
       "text": [
        "                           5  \n",
        " -\\Delta\\dot{f}_{T}\u22c5(R - 1)   \n",
        "\u2500\u2500\u2500\u2500\u2500\u2500\u2500\u2500\u2500\u2500\u2500\u2500\u2500\u2500\u2500\u2500\u2500\u2500\u2500\u2500\u2500\u2500\u2500\u2500\u2500\u2500\u2500\u2500\u2500\u2500\n",
        "   4       3       2          \n",
        "5\u22c5R  - 10\u22c5R  + 10\u22c5R  - 5\u22c5R + 1"
       ]
      }
     ],
     "prompt_number": 11
    },
    {
     "cell_type": "code",
     "collapsed": false,
     "input": [
      "equations = [Eq(dPA, dPA_min), \n",
      "            Eq(dPB, dPB_min),\n",
      "            Eq(dSA, dSA_min)]\n",
      "\n",
      "solve(equations, exclude=dST)"
     ],
     "language": "python",
     "metadata": {},
     "outputs": []
    },
    {
     "cell_type": "code",
     "collapsed": false,
     "input": [
      "simplify(R**5 - expand((R-1)**5))"
     ],
     "language": "python",
     "metadata": {},
     "outputs": [
      {
       "latex": [
        "$$5 R^{4} - 10 R^{3} + 10 R^{2} - 5 R + 1$$"
       ],
       "metadata": {},
       "output_type": "pyout",
       "png": "[encoded data removed]",
       "prompt_number": 14,
       "text": [
        "   4       3       2          \n",
        "5\u22c5R  - 10\u22c5R  + 10\u22c5R  - 5\u22c5R + 1"
       ]
      }
     ],
     "prompt_number": 14
    },
    {
     "cell_type": "code",
     "collapsed": true,
     "input": [],
     "language": "python",
     "metadata": {},
     "outputs": []
    }
   ],
   "metadata": {}
  }
 ]
}