{
 "metadata": {
  "kernelspec": {
   "codemirror_mode": {
    "name": "ipython",
    "version": 2
   },
   "display_name": "IPython (Python 2)",
   "language": "python",
   "name": "python2",
   "pygments_lexer": "ipython2"
  },
  "name": "",
  "signature": "sha256:0690bca475ea9f6ecb3bb86ad069915d336bb7e6acc51924d8692bf831c3abc0"
 },
 "nbformat": 3,
 "nbformat_minor": 0,
 "worksheets": [
  {
   "cells": [
    {
     "cell_type": "code",
     "collapsed": false,
     "input": [
      "from sympy import *\n",
      "init_printing()\n",
      "\n",
      "%matplotlib  inline"
     ],
     "language": "python",
     "metadata": {},
     "outputs": [],
     "prompt_number": 3
    },
    {
     "cell_type": "code",
     "collapsed": false,
     "input": [
      "dPA, dPB = symbols('\\Delta\\Phi_{A} \\Delta\\Phi_{B}')\n",
      "dFA, dFB = symbols('\\Delta{f}_{A} \\Delta{f}_{B}')\n",
      "dSA, dSB = symbols('\\Delta\\dot{f}_{A} \\Delta\\dot{f}_{B}')\n",
      "dST = symbols('\\Delta\\dot{f}_{T}')\n",
      "\n",
      "#dSB = dSA - dST\n",
      "\n",
      "T, R = symbols('T R')\n",
      "t = symbols('t')\n",
      "\n",
      "tRA = T*R/2\n",
      "tRB = T*(R+1)/2\n",
      "\n",
      "DeltaPhiA = dPA + 2*pi*(dFA * (t - tRA) + dSA/2 * (t-tRA)**2)\n",
      "DeltaPhiB = dPB + 2*pi*(dFB * (t - tRB) + dSB/2 * (t-tRB)**2)\n",
      "DeltaPhiB"
     ],
     "language": "python",
     "metadata": {},
     "outputs": [
      {
       "latex": [
        "$$\\Delta\\Phi_{{B}} + 2 \\pi \\left(\\frac{\\Delta\\dot{f}_{{B}}}{2} \\left(- \\frac{T}{2} \\left(R + 1\\right) + t\\right)^{2} + \\Delta{f}_{{B}} \\left(- \\frac{T}{2} \\left(R + 1\\right) + t\\right)\\right)$$"
       ],
       "metadata": {},
       "output_type": "pyout",
       "png": "[encoded data removed]",
       "prompt_number": 4,
       "text": [
        "                     \u239b                                   2                    \n",
        "                     \u239c                  \u239b  T\u22c5(R + 1)    \u239e                     \n",
        "                     \u239c\\Delta\\dot{f}_{B}\u22c5\u239c- \u2500\u2500\u2500\u2500\u2500\u2500\u2500\u2500\u2500 + t\u239f                     \n",
        "                     \u239c                  \u239d      2        \u23a0                  \u239b  \n",
        "\\Delta\\Phi_{B} + 2\u22c5\u03c0\u22c5\u239c\u2500\u2500\u2500\u2500\u2500\u2500\u2500\u2500\u2500\u2500\u2500\u2500\u2500\u2500\u2500\u2500\u2500\u2500\u2500\u2500\u2500\u2500\u2500\u2500\u2500\u2500\u2500\u2500\u2500\u2500\u2500\u2500\u2500\u2500\u2500\u2500 + \\Delta{f}_{B}\u22c5\u239c- \n",
        "                     \u239d                 2                                   \u239d  \n",
        "\n",
        "              \u239e\n",
        "              \u239f\n",
        "              \u239f\n",
        "T\u22c5(R + 1)    \u239e\u239f\n",
        "\u2500\u2500\u2500\u2500\u2500\u2500\u2500\u2500\u2500 + t\u239f\u239f\n",
        "    2        \u23a0\u23a0"
       ]
      }
     ],
     "prompt_number": 4
    },
    {
     "cell_type": "code",
     "collapsed": false,
     "input": [
      "DeltaPhiA.subs(t, R*T)"
     ],
     "language": "python",
     "metadata": {},
     "outputs": [
      {
       "latex": [
        "$$\\Delta\\Phi_{{A}} + 2 \\pi \\left(\\frac{R^{2} \\Delta\\dot{f}_{{A}}}{8} T^{2} + \\frac{R T}{2} \\Delta{f}_{{A}}\\right)$$"
       ],
       "metadata": {},
       "output_type": "pyout",
       "png": "[encoded data removed]",
       "prompt_number": 5,
       "text": [
        "                     \u239b 2  2                                      \u239e\n",
        "                     \u239cR \u22c5T \u22c5\\Delta\\dot{f}_{A}   R\u22c5T\u22c5\\Delta{f}_{A}\u239f\n",
        "\\Delta\\Phi_{A} + 2\u22c5\u03c0\u22c5\u239c\u2500\u2500\u2500\u2500\u2500\u2500\u2500\u2500\u2500\u2500\u2500\u2500\u2500\u2500\u2500\u2500\u2500\u2500\u2500\u2500\u2500\u2500\u2500 + \u2500\u2500\u2500\u2500\u2500\u2500\u2500\u2500\u2500\u2500\u2500\u2500\u2500\u2500\u2500\u2500\u2500\u239f\n",
        "                     \u239d           8                      2        \u23a0"
       ]
      }
     ],
     "prompt_number": 5
    },
    {
     "cell_type": "code",
     "collapsed": false,
     "input": [
      "S = integrate(DeltaPhiA**2, (t, 0, R*T)) + integrate(DeltaPhiB**2, (t, R*T, T))\n",
      "#S = integrate((DeltaPhiA + DeltaPhiB)**2, (t, 0, T))\n",
      "S = simplify(S)\n",
      "S"
     ],
     "language": "python",
     "metadata": {},
     "outputs": [
      {
       "latex": [
        "$$\\frac{\\pi^{2} R^{5}}{80} T^{5} \\Delta\\dot{f}_{{A}}^{2} - \\frac{\\pi^{2} R^{5}}{80} T^{5} \\Delta\\dot{f}_{{B}}^{2} + \\frac{\\pi^{2} R^{4}}{16} T^{5} \\Delta\\dot{f}_{{B}}^{2} - \\frac{\\pi^{2} R^{3}}{8} T^{5} \\Delta\\dot{f}_{{B}}^{2} + \\frac{\\pi \\Delta\\Phi_{{A}}}{6} R^{3} T^{3} \\Delta\\dot{f}_{{A}} - \\frac{\\pi \\Delta\\Phi_{{B}}}{6} R^{3} T^{3} \\Delta\\dot{f}_{{B}} + \\frac{\\pi^{2} R^{3}}{3} T^{3} \\Delta{f}_{{A}}^{2} - \\frac{\\pi^{2} R^{3}}{3} T^{3} \\Delta{f}_{{B}}^{2} + \\frac{\\pi^{2} R^{2}}{8} T^{5} \\Delta\\dot{f}_{{B}}^{2} + \\frac{\\pi \\Delta\\Phi_{{B}}}{2} R^{2} T^{3} \\Delta\\dot{f}_{{B}} + \\pi^{2} R^{2} T^{3} \\Delta{f}_{{B}}^{2} - \\frac{\\pi^{2} R}{16} T^{5} \\Delta\\dot{f}_{{B}}^{2} - \\frac{\\pi R}{2} T^{3} \\Delta\\Phi_{{B}} \\Delta\\dot{f}_{{B}} - \\pi^{2} R T^{3} \\Delta{f}_{{B}}^{2} + R T \\Delta\\Phi_{{A}}^{2} - R T \\Delta\\Phi_{{B}}^{2} + \\frac{\\pi^{2} T^{5}}{80} \\Delta\\dot{f}_{{B}}^{2} + \\frac{\\pi \\Delta\\Phi_{{B}}}{6} T^{3} \\Delta\\dot{f}_{{B}} + \\frac{\\pi^{2} T^{3}}{3} \\Delta{f}_{{B}}^{2} + T \\Delta\\Phi_{{B}}^{2}$$"
       ],
       "metadata": {},
       "output_type": "pyout",
       "png": "[encoded data removed]",
       "prompt_number": 3,
       "text": [
        " 2  5  5                  2    2  5  5                  2    2  4  5          \n",
        "\u03c0 \u22c5R \u22c5T \u22c5\\Delta\\dot{f}_{A}    \u03c0 \u22c5R \u22c5T \u22c5\\Delta\\dot{f}_{B}    \u03c0 \u22c5R \u22c5T \u22c5\\Delta\\do\n",
        "\u2500\u2500\u2500\u2500\u2500\u2500\u2500\u2500\u2500\u2500\u2500\u2500\u2500\u2500\u2500\u2500\u2500\u2500\u2500\u2500\u2500\u2500\u2500\u2500\u2500\u2500\u2500 - \u2500\u2500\u2500\u2500\u2500\u2500\u2500\u2500\u2500\u2500\u2500\u2500\u2500\u2500\u2500\u2500\u2500\u2500\u2500\u2500\u2500\u2500\u2500\u2500\u2500\u2500\u2500 + \u2500\u2500\u2500\u2500\u2500\u2500\u2500\u2500\u2500\u2500\u2500\u2500\u2500\u2500\u2500\u2500\u2500\u2500\n",
        "             80                            80                            16   \n",
        "\n",
        "        2    2  3  5                  2      3  3                             \n",
        "t{f}_{B}    \u03c0 \u22c5R \u22c5T \u22c5\\Delta\\dot{f}_{B}    \u03c0\u22c5R \u22c5T \u22c5\\Delta\\Phi_{A}\u22c5\\Delta\\dot{f}\n",
        "\u2500\u2500\u2500\u2500\u2500\u2500\u2500\u2500\u2500 - \u2500\u2500\u2500\u2500\u2500\u2500\u2500\u2500\u2500\u2500\u2500\u2500\u2500\u2500\u2500\u2500\u2500\u2500\u2500\u2500\u2500\u2500\u2500\u2500\u2500\u2500\u2500 + \u2500\u2500\u2500\u2500\u2500\u2500\u2500\u2500\u2500\u2500\u2500\u2500\u2500\u2500\u2500\u2500\u2500\u2500\u2500\u2500\u2500\u2500\u2500\u2500\u2500\u2500\u2500\u2500\u2500\u2500\u2500\u2500\u2500\u2500\u2500\u2500\n",
        "                         8                                   6                \n",
        "\n",
        "          3  3                                     2  3  3              2    2\n",
        "_{A}   \u03c0\u22c5R \u22c5T \u22c5\\Delta\\Phi_{B}\u22c5\\Delta\\dot{f}_{B}   \u03c0 \u22c5R \u22c5T \u22c5\\Delta{f}_{A}    \u03c0 \n",
        "\u2500\u2500\u2500\u2500 - \u2500\u2500\u2500\u2500\u2500\u2500\u2500\u2500\u2500\u2500\u2500\u2500\u2500\u2500\u2500\u2500\u2500\u2500\u2500\u2500\u2500\u2500\u2500\u2500\u2500\u2500\u2500\u2500\u2500\u2500\u2500\u2500\u2500\u2500\u2500\u2500\u2500\u2500\u2500\u2500 + \u2500\u2500\u2500\u2500\u2500\u2500\u2500\u2500\u2500\u2500\u2500\u2500\u2500\u2500\u2500\u2500\u2500\u2500\u2500\u2500\u2500\u2500\u2500 - \u2500\u2500\n",
        "                          6                                  3                \n",
        "\n",
        "  3  3              2    2  2  5                  2      2  3                 \n",
        "\u22c5R \u22c5T \u22c5\\Delta{f}_{B}    \u03c0 \u22c5R \u22c5T \u22c5\\Delta\\dot{f}_{B}    \u03c0\u22c5R \u22c5T \u22c5\\Delta\\Phi_{B}\u22c5\\\n",
        "\u2500\u2500\u2500\u2500\u2500\u2500\u2500\u2500\u2500\u2500\u2500\u2500\u2500\u2500\u2500\u2500\u2500\u2500\u2500\u2500\u2500 + \u2500\u2500\u2500\u2500\u2500\u2500\u2500\u2500\u2500\u2500\u2500\u2500\u2500\u2500\u2500\u2500\u2500\u2500\u2500\u2500\u2500\u2500\u2500\u2500\u2500\u2500\u2500 + \u2500\u2500\u2500\u2500\u2500\u2500\u2500\u2500\u2500\u2500\u2500\u2500\u2500\u2500\u2500\u2500\u2500\u2500\u2500\u2500\u2500\u2500\u2500\u2500\n",
        "         3                           8                                   2    \n",
        "\n",
        "                                              2    5                  2       \n",
        "Delta\\dot{f}_{B}    2  2  3              2   \u03c0 \u22c5R\u22c5T \u22c5\\Delta\\dot{f}_{B}    \u03c0\u22c5R\u22c5\n",
        "\u2500\u2500\u2500\u2500\u2500\u2500\u2500\u2500\u2500\u2500\u2500\u2500\u2500\u2500\u2500\u2500 + \u03c0 \u22c5R \u22c5T \u22c5\\Delta{f}_{B}  - \u2500\u2500\u2500\u2500\u2500\u2500\u2500\u2500\u2500\u2500\u2500\u2500\u2500\u2500\u2500\u2500\u2500\u2500\u2500\u2500\u2500\u2500\u2500\u2500\u2500\u2500 - \u2500\u2500\u2500\u2500\n",
        "                                                         16                   \n",
        "\n",
        " 3                                                                            \n",
        "T \u22c5\\Delta\\Phi_{B}\u22c5\\Delta\\dot{f}_{B}    2    3              2                  \n",
        "\u2500\u2500\u2500\u2500\u2500\u2500\u2500\u2500\u2500\u2500\u2500\u2500\u2500\u2500\u2500\u2500\u2500\u2500\u2500\u2500\u2500\u2500\u2500\u2500\u2500\u2500\u2500\u2500\u2500\u2500\u2500\u2500\u2500\u2500\u2500 - \u03c0 \u22c5R\u22c5T \u22c5\\Delta{f}_{B}  + R\u22c5T\u22c5\\Delta\\Phi_\n",
        "               2                                                              \n",
        "\n",
        "                              2  5                  2      3                  \n",
        "   2                     2   \u03c0 \u22c5T \u22c5\\Delta\\dot{f}_{B}    \u03c0\u22c5T \u22c5\\Delta\\Phi_{B}\u22c5\\D\n",
        "{A}  - R\u22c5T\u22c5\\Delta\\Phi_{B}  + \u2500\u2500\u2500\u2500\u2500\u2500\u2500\u2500\u2500\u2500\u2500\u2500\u2500\u2500\u2500\u2500\u2500\u2500\u2500\u2500\u2500\u2500\u2500\u2500 + \u2500\u2500\u2500\u2500\u2500\u2500\u2500\u2500\u2500\u2500\u2500\u2500\u2500\u2500\u2500\u2500\u2500\u2500\u2500\u2500\u2500\u2500\n",
        "                                        80                                6   \n",
        "\n",
        "                   2  3              2                    \n",
        "elta\\dot{f}_{B}   \u03c0 \u22c5T \u22c5\\Delta{f}_{B}                    2\n",
        "\u2500\u2500\u2500\u2500\u2500\u2500\u2500\u2500\u2500\u2500\u2500\u2500\u2500\u2500\u2500 + \u2500\u2500\u2500\u2500\u2500\u2500\u2500\u2500\u2500\u2500\u2500\u2500\u2500\u2500\u2500\u2500\u2500\u2500\u2500\u2500 + T\u22c5\\Delta\\Phi_{B} \n",
        "                           3                              "
       ]
      }
     ],
     "prompt_number": 3
    },
    {
     "cell_type": "code",
     "collapsed": false,
     "input": [
      "dPA_min = solve(diff(S, dPA), dPA)[0]\n",
      "dPA_min"
     ],
     "language": "python",
     "metadata": {},
     "outputs": [
      {
       "latex": [
        "$$- \\frac{\\pi \\Delta\\dot{f}_{{A}}}{12} R^{2} T^{2}$$"
       ],
       "metadata": {},
       "output_type": "pyout",
       "png": "[encoded data removed]",
       "prompt_number": 4,
       "text": [
        "    2  2                   \n",
        "-\u03c0\u22c5R \u22c5T \u22c5\\Delta\\dot{f}_{A} \n",
        "\u2500\u2500\u2500\u2500\u2500\u2500\u2500\u2500\u2500\u2500\u2500\u2500\u2500\u2500\u2500\u2500\u2500\u2500\u2500\u2500\u2500\u2500\u2500\u2500\u2500\u2500\u2500\n",
        "             12            "
       ]
      }
     ],
     "prompt_number": 4
    },
    {
     "cell_type": "code",
     "collapsed": false,
     "input": [
      "dPB_min = solve(diff(S, dPB), dPB)[0]\n",
      "dPB_min = factor(dPB_min)\n",
      "dPB_min"
     ],
     "language": "python",
     "metadata": {},
     "outputs": [
      {
       "latex": [
        "$$- \\frac{\\pi \\Delta\\dot{f}_{{B}}}{12} T^{2} \\left(R - 1\\right)^{2}$$"
       ],
       "metadata": {},
       "output_type": "pyout",
       "png": "[encoded data removed]",
       "prompt_number": 5,
       "text": [
        "    2                          2 \n",
        "-\u03c0\u22c5T \u22c5\\Delta\\dot{f}_{B}\u22c5(R - 1)  \n",
        "\u2500\u2500\u2500\u2500\u2500\u2500\u2500\u2500\u2500\u2500\u2500\u2500\u2500\u2500\u2500\u2500\u2500\u2500\u2500\u2500\u2500\u2500\u2500\u2500\u2500\u2500\u2500\u2500\u2500\u2500\u2500\u2500\u2500\n",
        "                12               "
       ]
      }
     ],
     "prompt_number": 5
    },
    {
     "cell_type": "code",
     "collapsed": false,
     "input": [
      "solve(diff(S, dFA), dFA)"
     ],
     "language": "python",
     "metadata": {},
     "outputs": [
      {
       "latex": [
        "$$\\begin{bmatrix}0\\end{bmatrix}$$"
       ],
       "metadata": {},
       "output_type": "pyout",
       "png": "[encoded data removed]",
       "prompt_number": 6,
       "text": [
        "[0]"
       ]
      }
     ],
     "prompt_number": 6
    },
    {
     "cell_type": "code",
     "collapsed": false,
     "input": [
      "solve(diff(S, dFB), dFB)"
     ],
     "language": "python",
     "metadata": {},
     "outputs": [
      {
       "latex": [
        "$$\\begin{bmatrix}0\\end{bmatrix}$$"
       ],
       "metadata": {},
       "output_type": "pyout",
       "png": "[encoded data removed]",
       "prompt_number": 7,
       "text": [
        "[0]"
       ]
      }
     ],
     "prompt_number": 7
    },
    {
     "cell_type": "code",
     "collapsed": false,
     "input": [
      "DeltaPhiA_min = simplify(dPA_min + 2*pi*(dSA/2 * (t-tRA)**2))\n",
      "DeltaPhiA_min"
     ],
     "language": "python",
     "metadata": {},
     "outputs": [
      {
       "latex": [
        "$$\\frac{\\pi \\Delta\\dot{f}_{{A}}}{12} \\left(- R^{2} T^{2} + 3 \\left(R T - 2 t\\right)^{2}\\right)$$"
       ],
       "metadata": {},
       "output_type": "pyout",
       "png": "[encoded data removed]",
       "prompt_number": 8,
       "text": [
        "                    \u239b   2  2                2\u239e\n",
        "\u03c0\u22c5\\Delta\\dot{f}_{A}\u22c5\u239d- R \u22c5T  + 3\u22c5(R\u22c5T - 2\u22c5t) \u23a0\n",
        "\u2500\u2500\u2500\u2500\u2500\u2500\u2500\u2500\u2500\u2500\u2500\u2500\u2500\u2500\u2500\u2500\u2500\u2500\u2500\u2500\u2500\u2500\u2500\u2500\u2500\u2500\u2500\u2500\u2500\u2500\u2500\u2500\u2500\u2500\u2500\u2500\u2500\u2500\u2500\u2500\u2500\u2500\u2500\u2500\u2500\u2500\n",
        "                      12                      "
       ]
      }
     ],
     "prompt_number": 8
    },
    {
     "cell_type": "code",
     "collapsed": false,
     "input": [
      "DeltaPhiB_min = simplify(dPB_min + 2*pi*(dSB/2 * (t-tRA)**2))\n",
      "DeltaPhiB_min"
     ],
     "language": "python",
     "metadata": {},
     "outputs": [
      {
       "latex": [
        "$$\\frac{\\pi \\Delta\\dot{f}_{{B}}}{12} \\left(- T^{2} \\left(R - 1\\right)^{2} + 3 \\left(R T - 2 t\\right)^{2}\\right)$$"
       ],
       "metadata": {},
       "output_type": "pyout",
       "png": "[encoded data removed]",
       "prompt_number": 9,
       "text": [
        "                    \u239b   2        2                2\u239e\n",
        "\u03c0\u22c5\\Delta\\dot{f}_{B}\u22c5\u239d- T \u22c5(R - 1)  + 3\u22c5(R\u22c5T - 2\u22c5t) \u23a0\n",
        "\u2500\u2500\u2500\u2500\u2500\u2500\u2500\u2500\u2500\u2500\u2500\u2500\u2500\u2500\u2500\u2500\u2500\u2500\u2500\u2500\u2500\u2500\u2500\u2500\u2500\u2500\u2500\u2500\u2500\u2500\u2500\u2500\u2500\u2500\u2500\u2500\u2500\u2500\u2500\u2500\u2500\u2500\u2500\u2500\u2500\u2500\u2500\u2500\u2500\u2500\u2500\u2500\n",
        "                         12                         "
       ]
      }
     ],
     "prompt_number": 9
    },
    {
     "cell_type": "code",
     "collapsed": false,
     "input": [
      "dSB_min = solve(Eq(DeltaPhiA_min.subs(t, R*T), DeltaPhiB_min.subs(t, R*T)), dSB)[0]\n",
      "dSB_min"
     ],
     "language": "python",
     "metadata": {},
     "outputs": [
      {
       "latex": [
        "$$\\frac{2 R^{2} \\Delta\\dot{f}_{{A}}}{3 R^{2} - \\left(R - 1\\right)^{2}}$$"
       ],
       "metadata": {},
       "output_type": "pyout",
       "png": "[encoded data removed]",
       "prompt_number": 10,
       "text": [
        "   2                  \n",
        "2\u22c5R \u22c5\\Delta\\dot{f}_{A}\n",
        "\u2500\u2500\u2500\u2500\u2500\u2500\u2500\u2500\u2500\u2500\u2500\u2500\u2500\u2500\u2500\u2500\u2500\u2500\u2500\u2500\u2500\u2500\n",
        "      2          2    \n",
        "   3\u22c5R  - (R - 1)     "
       ]
      }
     ],
     "prompt_number": 10
    },
    {
     "cell_type": "code",
     "collapsed": false,
     "input": [
      "Eq(diff(DeltaPhiA_min, t).subs(t, R*T), diff(DeltaPhiB_min, t).subs(t, R*T))"
     ],
     "language": "python",
     "metadata": {},
     "outputs": [
      {
       "latex": [
        "$$\\pi R T \\Delta\\dot{f}_{{A}} = \\frac{\\pi R^{2} \\Delta\\dot{f}_{{A}} \\left(24 R T - 12 T \\left(R + 1\\right)\\right)}{18 R^{2} - 6 \\left(R - 1\\right)^{2}}$$"
       ],
       "metadata": {},
       "output_type": "pyout",
       "png": "[encoded data removed]",
       "prompt_number": 20,
       "text": [
        "                             2                                          \n",
        "                          \u03c0\u22c5R \u22c5\\Delta\\dot{f}_{A}\u22c5(24\u22c5R\u22c5T - 12\u22c5T\u22c5(R + 1))\n",
        "\u03c0\u22c5R\u22c5T\u22c5\\Delta\\dot{f}_{A} = \u2500\u2500\u2500\u2500\u2500\u2500\u2500\u2500\u2500\u2500\u2500\u2500\u2500\u2500\u2500\u2500\u2500\u2500\u2500\u2500\u2500\u2500\u2500\u2500\u2500\u2500\u2500\u2500\u2500\u2500\u2500\u2500\u2500\u2500\u2500\u2500\u2500\u2500\u2500\u2500\u2500\u2500\u2500\u2500\u2500\u2500\n",
        "                                         \u239b   2          2\u239e              \n",
        "                                       6\u22c5\u239d3\u22c5R  - (R - 1) \u23a0              "
       ]
      }
     ],
     "prompt_number": 20
    },
    {
     "cell_type": "code",
     "collapsed": false,
     "input": [
      "dPB_minF = simplify(dPB_min.subs(dSB, dSB_min))\n",
      "dPB_minF"
     ],
     "language": "python",
     "metadata": {},
     "outputs": [
      {
       "latex": [
        "$$- \\frac{\\pi R^{2} T^{2} \\Delta\\dot{f}_{{A}} \\left(R - 1\\right)^{2}}{18 R^{2} - 6 \\left(R - 1\\right)^{2}}$$"
       ],
       "metadata": {},
       "output_type": "pyout",
       "png": "[encoded data removed]",
       "prompt_number": 11,
       "text": [
        "    2  2                          2 \n",
        "-\u03c0\u22c5R \u22c5T \u22c5\\Delta\\dot{f}_{A}\u22c5(R - 1)  \n",
        "\u2500\u2500\u2500\u2500\u2500\u2500\u2500\u2500\u2500\u2500\u2500\u2500\u2500\u2500\u2500\u2500\u2500\u2500\u2500\u2500\u2500\u2500\u2500\u2500\u2500\u2500\u2500\u2500\u2500\u2500\u2500\u2500\u2500\u2500\u2500\u2500\n",
        "             2            2         \n",
        "         18\u22c5R  - 6\u22c5(R - 1)          "
       ]
      }
     ],
     "prompt_number": 11
    },
    {
     "cell_type": "code",
     "collapsed": false,
     "input": [
      "DeltaPhiA_min = simplify(dPA_min + 2*pi*(dSA/2 * (t-tRA)**2))\n",
      "DeltaPhiA_min"
     ],
     "language": "python",
     "metadata": {},
     "outputs": [
      {
       "latex": [
        "$$\\frac{\\pi \\Delta\\dot{f}_{{A}}}{12} \\left(- R^{2} T^{2} + 3 \\left(R T - 2 t\\right)^{2}\\right)$$"
       ],
       "metadata": {},
       "output_type": "pyout",
       "png": "[encoded data removed]",
       "prompt_number": 14,
       "text": [
        "                    \u239b   2  2                2\u239e\n",
        "\u03c0\u22c5\\Delta\\dot{f}_{A}\u22c5\u239d- R \u22c5T  + 3\u22c5(R\u22c5T - 2\u22c5t) \u23a0\n",
        "\u2500\u2500\u2500\u2500\u2500\u2500\u2500\u2500\u2500\u2500\u2500\u2500\u2500\u2500\u2500\u2500\u2500\u2500\u2500\u2500\u2500\u2500\u2500\u2500\u2500\u2500\u2500\u2500\u2500\u2500\u2500\u2500\u2500\u2500\u2500\u2500\u2500\u2500\u2500\u2500\u2500\u2500\u2500\u2500\u2500\u2500\n",
        "                      12                      "
       ]
      }
     ],
     "prompt_number": 14
    },
    {
     "cell_type": "code",
     "collapsed": false,
     "input": [
      "DeltaPhiB_min = simplify(dPB_minF + 2*pi*(dSB_min/2 * (t-tRB)**2))\n",
      "DeltaPhiB_min"
     ],
     "language": "python",
     "metadata": {},
     "outputs": [
      {
       "latex": [
        "$$\\frac{\\pi R^{2} \\Delta\\dot{f}_{{A}}}{18 R^{2} - 6 \\left(R - 1\\right)^{2}} \\left(- T^{2} \\left(R - 1\\right)^{2} + 3 \\left(T \\left(R + 1\\right) - 2 t\\right)^{2}\\right)$$"
       ],
       "metadata": {},
       "output_type": "pyout",
       "png": "[encoded data removed]",
       "prompt_number": 16,
       "text": [
        "   2                   \u239b   2        2                      2\u239e\n",
        "\u03c0\u22c5R \u22c5\\Delta\\dot{f}_{A}\u22c5\u239d- T \u22c5(R - 1)  + 3\u22c5(T\u22c5(R + 1) - 2\u22c5t) \u23a0\n",
        "\u2500\u2500\u2500\u2500\u2500\u2500\u2500\u2500\u2500\u2500\u2500\u2500\u2500\u2500\u2500\u2500\u2500\u2500\u2500\u2500\u2500\u2500\u2500\u2500\u2500\u2500\u2500\u2500\u2500\u2500\u2500\u2500\u2500\u2500\u2500\u2500\u2500\u2500\u2500\u2500\u2500\u2500\u2500\u2500\u2500\u2500\u2500\u2500\u2500\u2500\u2500\u2500\u2500\u2500\u2500\u2500\u2500\u2500\u2500\u2500\u2500\n",
        "                       \u239b   2          2\u239e                     \n",
        "                     6\u22c5\u239d3\u22c5R  - (R - 1) \u23a0                     "
       ]
      }
     ],
     "prompt_number": 16
    },
    {
     "cell_type": "code",
     "collapsed": false,
     "input": [
      "Rval = 0.5\n",
      "Tval = 10\n",
      "subs = {R : Rval, T :Tval, dSA : 1}\n",
      "plot((DeltaPhiA_min.subs(subs), (t, 0, Rval * Tval)),\n",
      "     (DeltaPhiB_min.subs(subs), (t, Rval * Tval, Tval)))"
     ],
     "language": "python",
     "metadata": {},
     "outputs": [
      {
       "metadata": {},
       "output_type": "display_data",
       "png": "[encoded data removed]",
       "text": [
        "<matplotlib.figure.Figure at 0x7fbb28032310>"
       ]
      },
      {
       "metadata": {},
       "output_type": "pyout",
       "prompt_number": 17,
       "text": [
        "<sympy.plotting.plot.Plot at 0x7fbb3757f490>"
       ]
      }
     ],
     "prompt_number": 17
    },
    {
     "cell_type": "code",
     "collapsed": true,
     "input": [
      "plot?"
     ],
     "language": "python",
     "metadata": {},
     "outputs": []
    },
    {
     "cell_type": "code",
     "collapsed": true,
     "input": [],
     "language": "python",
     "metadata": {},
     "outputs": []
    }
   ],
   "metadata": {}
  }
 ]
}