{
 "cells": [
  {
   "cell_type": "code",
   "execution_count": 2,
   "metadata": {
    "collapsed": true
   },
   "outputs": [],
   "source": [
    "from ReproducingEspinoza2011 import GetData\n",
    "import numpy as np\n",
    "import matplotlib.pyplot as plt\n",
    "%matplotlib inline"
   ]
  },
  {
   "cell_type": "code",
   "execution_count": 3,
   "metadata": {
    "collapsed": false
   },
   "outputs": [
    {
     "name": "stdout",
     "output_type": "stream",
     "text": [
      "Using saved data\n"
     ]
    },
    {
     "data": {
      "text/html": [
       "<div style=\"max-height:1000px;max-width:1500px;overflow:auto;\">\n",
       "<table border=\"1\" class=\"dataframe\">\n",
       "  <thead>\n",
       "    <tr style=\"text-align: right;\">\n",
       "      <th></th>\n",
       "      <th>Unnamed: 0</th>\n",
       "      <th>dF</th>\n",
       "      <th>dF1</th>\n",
       "      <th>dF1_F1</th>\n",
       "      <th>dF1_F1_err</th>\n",
       "      <th>dF1_err</th>\n",
       "      <th>dF_F</th>\n",
       "      <th>dF_F_err</th>\n",
       "      <th>dF_err</th>\n",
       "      <th>names</th>\n",
       "    </tr>\n",
       "  </thead>\n",
       "  <tbody>\n",
       "    <tr>\n",
       "      <th>0</th>\n",
       "      <td> 0</td>\n",
       "      <td> 7.000000e-08</td>\n",
       "      <td>-4.000000e-16</td>\n",
       "      <td> 0.014</td>\n",
       "      <td> 0.005</td>\n",
       "      <td> 1.000000e-16</td>\n",
       "      <td> 6.500000e-07</td>\n",
       "      <td> 1.500000e-07</td>\n",
       "      <td> 2.000000e-08</td>\n",
       "      <td> 4U_0142+61</td>\n",
       "    </tr>\n",
       "    <tr>\n",
       "      <th>1</th>\n",
       "      <td> 1</td>\n",
       "      <td> 2.000000e-09</td>\n",
       "      <td> 4.000000e-16</td>\n",
       "      <td>-0.011</td>\n",
       "      <td> 0.006</td>\n",
       "      <td> 2.000000e-16</td>\n",
       "      <td> 4.000000e-09</td>\n",
       "      <td> 1.000000e-09</td>\n",
       "      <td> 1.000000e-09</td>\n",
       "      <td>   B0154+61</td>\n",
       "    </tr>\n",
       "    <tr>\n",
       "      <th>2</th>\n",
       "      <td> 2</td>\n",
       "      <td> 5.000000e-06</td>\n",
       "      <td>-2.250000e-13</td>\n",
       "      <td> 0.005</td>\n",
       "      <td> 0.001</td>\n",
       "      <td> 4.500000e-14</td>\n",
       "      <td> 3.400000e-07</td>\n",
       "      <td> 1.100000e-07</td>\n",
       "      <td> 2.000000e-06</td>\n",
       "      <td> J0205+6449</td>\n",
       "    </tr>\n",
       "    <tr>\n",
       "      <th>3</th>\n",
       "      <td> 3</td>\n",
       "      <td> 5.800000e-05</td>\n",
       "      <td>-5.450000e-13</td>\n",
       "      <td> 0.012</td>\n",
       "      <td> 0.001</td>\n",
       "      <td> 4.500000e-14</td>\n",
       "      <td> 3.800000e-06</td>\n",
       "      <td> 4.000000e-07</td>\n",
       "      <td> 6.000000e-06</td>\n",
       "      <td> J0205+6449</td>\n",
       "    </tr>\n",
       "    <tr>\n",
       "      <th>4</th>\n",
       "      <td> 4</td>\n",
       "      <td> 4.000000e-08</td>\n",
       "      <td>-1.000000e-15</td>\n",
       "      <td> 0.006</td>\n",
       "      <td> 0.005</td>\n",
       "      <td> 1.000000e-15</td>\n",
       "      <td> 6.000000e-09</td>\n",
       "      <td> 1.000000e-09</td>\n",
       "      <td> 1.000000e-08</td>\n",
       "      <td>   B0355+54</td>\n",
       "    </tr>\n",
       "  </tbody>\n",
       "</table>\n",
       "</div>"
      ],
      "text/plain": [
       "   Unnamed: 0            dF           dF1  dF1_F1  dF1_F1_err       dF1_err  \\\n",
       "0           0  7.000000e-08 -4.000000e-16   0.014       0.005  1.000000e-16   \n",
       "1           1  2.000000e-09  4.000000e-16  -0.011       0.006  2.000000e-16   \n",
       "2           2  5.000000e-06 -2.250000e-13   0.005       0.001  4.500000e-14   \n",
       "3           3  5.800000e-05 -5.450000e-13   0.012       0.001  4.500000e-14   \n",
       "4           4  4.000000e-08 -1.000000e-15   0.006       0.005  1.000000e-15   \n",
       "\n",
       "           dF_F      dF_F_err        dF_err       names  \n",
       "0  6.500000e-07  1.500000e-07  2.000000e-08  4U_0142+61  \n",
       "1  4.000000e-09  1.000000e-09  1.000000e-09    B0154+61  \n",
       "2  3.400000e-07  1.100000e-07  2.000000e-06  J0205+6449  \n",
       "3  3.800000e-06  4.000000e-07  6.000000e-06  J0205+6449  \n",
       "4  6.000000e-09  1.000000e-09  1.000000e-08    B0355+54  "
      ]
     },
     "execution_count": 3,
     "metadata": {},
     "output_type": "execute_result"
    }
   ],
   "source": [
    "df = GetData()\n",
    "df.head()"
   ]
  },
  {
   "cell_type": "code",
   "execution_count": 4,
   "metadata": {
    "collapsed": true
   },
   "outputs": [],
   "source": [
    "df['F0'] = df.dF / df.dF_F\n",
    "df['F1'] = df.dF1 / df.dF1_F1"
   ]
  },
  {
   "cell_type": "code",
   "execution_count": 10,
   "metadata": {
    "collapsed": false
   },
   "outputs": [
    {
     "data": {
      "image/png": "[encoded data removed]",
      "text/plain": [
       "<matplotlib.figure.Figure at 0x7f140bb52150>"
      ]
     },
     "metadata": {},
     "output_type": "display_data"
    }
   ],
   "source": [
    "fig, ax = plt.subplots()\n",
    "ax.plot(df['F0'].values, -df['F1'].values, \"o\")\n",
    "ax.set_xscale(\"log\")\n",
    "ax.set_yscale(\"log\")\n",
    "plt.show()"
   ]
  }
 ],
 "metadata": {
  "kernelspec": {
   "display_name": "Python 2",
   "language": "python",
   "name": "python2"
  },
  "language_info": {
   "codemirror_mode": {
    "name": "ipython",
    "version": 2
   },
   "file_extension": ".py",
   "mimetype": "text/x-python",
   "name": "python",
   "nbconvert_exporter": "python",
   "pygments_lexer": "ipython2",
   "version": "2.7.6"
  }
 },
 "nbformat": 4,
 "nbformat_minor": 0
}
