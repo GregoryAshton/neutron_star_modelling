{
 "metadata": {
  "name": "",
  "signature": "sha256:f75b07d84b6b71d525e88fd266db3e3aeaa4ef8913442a357f1c5427f4ce5f61"
 },
 "nbformat": 3,
 "nbformat_minor": 0,
 "worksheets": [
  {
   "cells": [
    {
     "cell_type": "code",
     "collapsed": false,
     "input": [
      "from sympy import *\n",
      "init_printing()"
     ],
     "language": "python",
     "metadata": {},
     "outputs": [],
     "prompt_number": 2
    },
    {
     "cell_type": "code",
     "collapsed": false,
     "input": [
      "eps1, eps3, I0, E, M, M3 = symbols('\\epsilon_{1} \\epsilon_{3} I_{0} E M M_{3}')\n",
      "R = symbols('R')\n",
      "#I1 = I0 * (1 - eps1)\n",
      "#I2 = I0\n",
      "#I3 = I0 * (1 + eps3)\n",
      "I1, I2, I3 = symbols('I_{1} I_{2} I_{3}')\n",
      "k = sqrt((I2 - I1) * (2*E*I3/M**2 - 1)/((I3 - I2) * (1 - 2 * E * I1/M**2)))\n",
      "k"
     ],
     "language": "python",
     "metadata": {},
     "outputs": [
      {
       "latex": [
        "$$\\sqrt{\\frac{\\left(- I_{{1}} + I_{{2}}\\right) \\left(\\frac{2 E}{M^{2}} I_{{3}} - 1\\right)}{\\left(- I_{{2}} + I_{{3}}\\right) \\left(- \\frac{2 E}{M^{2}} I_{{1}} + 1\\right)}}$$"
       ],
       "metadata": {},
       "output_type": "pyout",
       "png": "[encoded data removed]",
       "prompt_number": 6,
       "text": [
        "          ____________________________________\n",
        "         \u2571                   \u239b2\u22c5E\u22c5I_{3}    \u239e  \n",
        "        \u2571   (-I_{1} + I_{2})\u22c5\u239c\u2500\u2500\u2500\u2500\u2500\u2500\u2500\u2500\u2500 - 1\u239f  \n",
        "       \u2571                     \u239c     2       \u239f  \n",
        "      \u2571                      \u239d    M        \u23a0  \n",
        "     \u2571     \u2500\u2500\u2500\u2500\u2500\u2500\u2500\u2500\u2500\u2500\u2500\u2500\u2500\u2500\u2500\u2500\u2500\u2500\u2500\u2500\u2500\u2500\u2500\u2500\u2500\u2500\u2500\u2500\u2500\u2500\u2500\u2500\u2500\u2500 \n",
        "    \u2571                       \u239b  2\u22c5E\u22c5I_{1}    \u239e \n",
        "   \u2571       (-I_{2} + I_{3})\u22c5\u239c- \u2500\u2500\u2500\u2500\u2500\u2500\u2500\u2500\u2500 + 1\u239f \n",
        "  \u2571                         \u239c       2       \u239f \n",
        "\u2572\u2571                          \u239d      M        \u23a0 "
       ]
      }
     ],
     "prompt_number": 6
    },
    {
     "cell_type": "code",
     "collapsed": false,
     "input": [
      "sinthetabar = sqrt(I3 * (1 - 2*E*I1/M**2) / (I3 - I1)) * (1 - k /4)\n",
      "simplify(sinthetabar)"
     ],
     "language": "python",
     "metadata": {},
     "outputs": [
      {
       "latex": [
        "$$\\frac{1}{4} \\sqrt{\\frac{I_{{3}} \\left(2 E I_{{1}} - M^{2}\\right)}{M^{2} \\left(I_{{1}} - I_{{3}}\\right)}} \\left(- \\sqrt{- \\frac{\\left(I_{{1}} - I_{{2}}\\right) \\left(2 E I_{{3}} - M^{2}\\right)}{\\left(I_{{2}} - I_{{3}}\\right) \\left(2 E I_{{1}} - M^{2}\\right)}} + 4\\right)$$"
       ],
       "metadata": {},
       "output_type": "pyout",
       "png": "[encoded data removed]",
       "prompt_number": 7,
       "text": [
        "      ________________________ \u239b        ____________________________________  \n",
        "     \u2571       \u239b             2\u239e  \u239c       \u2571                  \u239b             2\u239e    \n",
        "    \u2571  I_{3}\u22c5\u239d2\u22c5E\u22c5I_{1} - M \u23a0  \u239c      \u2571  -(I_{1} - I_{2})\u22c5\u239d2\u22c5E\u22c5I_{3} - M \u23a0    \n",
        "   \u2571   \u2500\u2500\u2500\u2500\u2500\u2500\u2500\u2500\u2500\u2500\u2500\u2500\u2500\u2500\u2500\u2500\u2500\u2500\u2500\u2500\u2500\u2500 \u22c5\u239c-    \u2571   \u2500\u2500\u2500\u2500\u2500\u2500\u2500\u2500\u2500\u2500\u2500\u2500\u2500\u2500\u2500\u2500\u2500\u2500\u2500\u2500\u2500\u2500\u2500\u2500\u2500\u2500\u2500\u2500\u2500\u2500\u2500\u2500\u2500\u2500  +\n",
        "  \u2571       2                    \u239c    \u2571                     \u239b             2\u239e    \n",
        "\u2572\u2571       M \u22c5(I_{1} - I_{3})    \u239d  \u2572\u2571      (I_{2} - I_{3})\u22c5\u239d2\u22c5E\u22c5I_{1} - M \u23a0    \n",
        "\u2500\u2500\u2500\u2500\u2500\u2500\u2500\u2500\u2500\u2500\u2500\u2500\u2500\u2500\u2500\u2500\u2500\u2500\u2500\u2500\u2500\u2500\u2500\u2500\u2500\u2500\u2500\u2500\u2500\u2500\u2500\u2500\u2500\u2500\u2500\u2500\u2500\u2500\u2500\u2500\u2500\u2500\u2500\u2500\u2500\u2500\u2500\u2500\u2500\u2500\u2500\u2500\u2500\u2500\u2500\u2500\u2500\u2500\u2500\u2500\u2500\u2500\u2500\u2500\u2500\u2500\u2500\u2500\u2500\u2500\u2500\u2500\u2500\u2500\u2500\u2500\u2500\u2500\n",
        "                                        4                                     \n",
        "\n",
        "  \u239e\n",
        "  \u239f\n",
        "  \u239f\n",
        " 4\u239f\n",
        "  \u239f\n",
        "  \u23a0\n",
        "\u2500\u2500\u2500\n",
        "   "
       ]
      }
     ],
     "prompt_number": 7
    },
    {
     "cell_type": "code",
     "collapsed": false,
     "input": [
      "expand(_)"
     ],
     "language": "python",
     "metadata": {},
     "outputs": [
      {
       "latex": [
        "$$- \\frac{1}{4} \\sqrt{\\frac{2 E I_{{1}} I_{{3}}}{I_{{1}} M^{2} - I_{{3}} M^{2}} - \\frac{I_{{3}} M^{2}}{I_{{1}} M^{2} - I_{{3}} M^{2}}} \\sqrt{- \\frac{2 E I_{{1}} I_{{3}}}{2 E I_{{1}} I_{{2}} - 2 E I_{{1}} I_{{3}} - I_{{2}} M^{2} + I_{{3}} M^{2}} + \\frac{2 E I_{{2}} I_{{3}}}{2 E I_{{1}} I_{{2}} - 2 E I_{{1}} I_{{3}} - I_{{2}} M^{2} + I_{{3}} M^{2}} + \\frac{I_{{1}} M^{2}}{2 E I_{{1}} I_{{2}} - 2 E I_{{1}} I_{{3}} - I_{{2}} M^{2} + I_{{3}} M^{2}} - \\frac{I_{{2}} M^{2}}{2 E I_{{1}} I_{{2}} - 2 E I_{{1}} I_{{3}} - I_{{2}} M^{2} + I_{{3}} M^{2}}} + \\sqrt{\\frac{2 E I_{{1}} I_{{3}}}{I_{{1}} M^{2} - I_{{3}} M^{2}} - \\frac{I_{{3}} M^{2}}{I_{{1}} M^{2} - I_{{3}} M^{2}}}$$"
       ],
       "metadata": {},
       "output_type": "pyout",
       "png": "[encoded data removed]",
       "prompt_number": 8,
       "text": [
        "        ___________________________________________       ____________________\n",
        "       \u2571                                    2            \u2571                    \n",
        "      \u2571    2\u22c5E\u22c5I_{1}\u22c5I_{3}           I_{3}\u22c5M            \u2571                     \n",
        "     \u2571   \u2500\u2500\u2500\u2500\u2500\u2500\u2500\u2500\u2500\u2500\u2500\u2500\u2500\u2500\u2500\u2500\u2500\u2500\u2500 - \u2500\u2500\u2500\u2500\u2500\u2500\u2500\u2500\u2500\u2500\u2500\u2500\u2500\u2500\u2500\u2500\u2500\u2500\u2500 \u22c5   \u2571   - \u2500\u2500\u2500\u2500\u2500\u2500\u2500\u2500\u2500\u2500\u2500\u2500\u2500\u2500\u2500\u2500\u2500\n",
        "    \u2571           2          2          2          2    \u2571                       \n",
        "  \u2572\u2571     I_{1}\u22c5M  - I_{3}\u22c5M    I_{1}\u22c5M  - I_{3}\u22c5M   \u2572\u2571       2\u22c5E\u22c5I_{1}\u22c5I_{2} -\n",
        "- \u2500\u2500\u2500\u2500\u2500\u2500\u2500\u2500\u2500\u2500\u2500\u2500\u2500\u2500\u2500\u2500\u2500\u2500\u2500\u2500\u2500\u2500\u2500\u2500\u2500\u2500\u2500\u2500\u2500\u2500\u2500\u2500\u2500\u2500\u2500\u2500\u2500\u2500\u2500\u2500\u2500\u2500\u2500\u2500\u2500\u2500\u2500\u2500\u2500\u2500\u2500\u2500\u2500\u2500\u2500\u2500\u2500\u2500\u2500\u2500\u2500\u2500\u2500\u2500\u2500\u2500\u2500\u2500\u2500\u2500\u2500\u2500\u2500\u2500\u2500\u2500\n",
        "                                                                              \n",
        "                                                                              \n",
        "\n",
        "______________________________________________________________________________\n",
        "                                                                              \n",
        "   2\u22c5E\u22c5I_{1}\u22c5I_{3}                                           2\u22c5E\u22c5I_{2}\u22c5I_{3}  \n",
        "\u2500\u2500\u2500\u2500\u2500\u2500\u2500\u2500\u2500\u2500\u2500\u2500\u2500\u2500\u2500\u2500\u2500\u2500\u2500\u2500\u2500\u2500\u2500\u2500\u2500\u2500\u2500\u2500\u2500\u2500\u2500\u2500\u2500\u2500\u2500\u2500\u2500\u2500 + \u2500\u2500\u2500\u2500\u2500\u2500\u2500\u2500\u2500\u2500\u2500\u2500\u2500\u2500\u2500\u2500\u2500\u2500\u2500\u2500\u2500\u2500\u2500\u2500\u2500\u2500\u2500\u2500\u2500\u2500\u2500\u2500\u2500\u2500\u2500\u2500\u2500\n",
        "                          2          2                                        \n",
        " 2\u22c5E\u22c5I_{1}\u22c5I_{3} - I_{2}\u22c5M  + I_{3}\u22c5M    2\u22c5E\u22c5I_{1}\u22c5I_{2} - 2\u22c5E\u22c5I_{1}\u22c5I_{3} - I\n",
        "\u2500\u2500\u2500\u2500\u2500\u2500\u2500\u2500\u2500\u2500\u2500\u2500\u2500\u2500\u2500\u2500\u2500\u2500\u2500\u2500\u2500\u2500\u2500\u2500\u2500\u2500\u2500\u2500\u2500\u2500\u2500\u2500\u2500\u2500\u2500\u2500\u2500\u2500\u2500\u2500\u2500\u2500\u2500\u2500\u2500\u2500\u2500\u2500\u2500\u2500\u2500\u2500\u2500\u2500\u2500\u2500\u2500\u2500\u2500\u2500\u2500\u2500\u2500\u2500\u2500\u2500\u2500\u2500\u2500\u2500\u2500\u2500\u2500\u2500\u2500\u2500\u2500\u2500\n",
        "                                                                    4         \n",
        "                                                                              \n",
        "\n",
        "______________________________________________________________________________\n",
        "                                                    2                         \n",
        "                                             I_{1}\u22c5M                          \n",
        "\u2500\u2500\u2500\u2500\u2500\u2500\u2500\u2500\u2500\u2500\u2500\u2500\u2500\u2500\u2500\u2500\u2500\u2500 + \u2500\u2500\u2500\u2500\u2500\u2500\u2500\u2500\u2500\u2500\u2500\u2500\u2500\u2500\u2500\u2500\u2500\u2500\u2500\u2500\u2500\u2500\u2500\u2500\u2500\u2500\u2500\u2500\u2500\u2500\u2500\u2500\u2500\u2500\u2500\u2500\u2500\u2500\u2500\u2500\u2500\u2500\u2500\u2500\u2500\u2500\u2500\u2500\u2500\u2500\u2500\u2500\u2500\u2500\u2500 -\n",
        "      2          2                                              2          2  \n",
        "_{2}\u22c5M  + I_{3}\u22c5M    2\u22c5E\u22c5I_{1}\u22c5I_{2} - 2\u22c5E\u22c5I_{1}\u22c5I_{3} - I_{2}\u22c5M  + I_{3}\u22c5M   \n",
        "\u2500\u2500\u2500\u2500\u2500\u2500\u2500\u2500\u2500\u2500\u2500\u2500\u2500\u2500\u2500\u2500\u2500\u2500\u2500\u2500\u2500\u2500\u2500\u2500\u2500\u2500\u2500\u2500\u2500\u2500\u2500\u2500\u2500\u2500\u2500\u2500\u2500\u2500\u2500\u2500\u2500\u2500\u2500\u2500\u2500\u2500\u2500\u2500\u2500\u2500\u2500\u2500\u2500\u2500\u2500\u2500\u2500\u2500\u2500\u2500\u2500\u2500\u2500\u2500\u2500\u2500\u2500\u2500\u2500\u2500\u2500\u2500\u2500\u2500\u2500\u2500\u2500\u2500\n",
        "                                                                              \n",
        "                                                                              \n",
        "\n",
        "_________________________________________________________                     \n",
        "                                2                                             \n",
        "                         I_{2}\u22c5M                                              \n",
        " \u2500\u2500\u2500\u2500\u2500\u2500\u2500\u2500\u2500\u2500\u2500\u2500\u2500\u2500\u2500\u2500\u2500\u2500\u2500\u2500\u2500\u2500\u2500\u2500\u2500\u2500\u2500\u2500\u2500\u2500\u2500\u2500\u2500\u2500\u2500\u2500\u2500\u2500\u2500\u2500\u2500\u2500\u2500\u2500\u2500\u2500\u2500\u2500\u2500\u2500\u2500\u2500\u2500\u2500\u2500          ____________\n",
        "                                            2          2         \u2571            \n",
        " 2\u22c5E\u22c5I_{1}\u22c5I_{2} - 2\u22c5E\u22c5I_{1}\u22c5I_{3} - I_{2}\u22c5M  + I_{3}\u22c5M         \u2571    2\u22c5E\u22c5I_{1}\n",
        "\u2500\u2500\u2500\u2500\u2500\u2500\u2500\u2500\u2500\u2500\u2500\u2500\u2500\u2500\u2500\u2500\u2500\u2500\u2500\u2500\u2500\u2500\u2500\u2500\u2500\u2500\u2500\u2500\u2500\u2500\u2500\u2500\u2500\u2500\u2500\u2500\u2500\u2500\u2500\u2500\u2500\u2500\u2500\u2500\u2500\u2500\u2500\u2500\u2500\u2500\u2500\u2500\u2500\u2500\u2500\u2500\u2500 +    \u2571   \u2500\u2500\u2500\u2500\u2500\u2500\u2500\u2500\u2500\u2500\u2500\n",
        "                                                              \u2571           2   \n",
        "                                                            \u2572\u2571     I_{1}\u22c5M  - \n",
        "\n",
        "                               \n",
        "                               \n",
        "                               \n",
        "_______________________________\n",
        "                        2      \n",
        "\u22c5I_{3}           I_{3}\u22c5M       \n",
        "\u2500\u2500\u2500\u2500\u2500\u2500\u2500\u2500 - \u2500\u2500\u2500\u2500\u2500\u2500\u2500\u2500\u2500\u2500\u2500\u2500\u2500\u2500\u2500\u2500\u2500\u2500\u2500 \n",
        "       2          2          2 \n",
        "I_{3}\u22c5M    I_{1}\u22c5M  - I_{3}\u22c5M  "
       ]
      }
     ],
     "prompt_number": 8
    },
    {
     "cell_type": "code",
     "collapsed": true,
     "input": [],
     "language": "python",
     "metadata": {},
     "outputs": []
    }
   ],
   "metadata": {}
  }
 ]
}