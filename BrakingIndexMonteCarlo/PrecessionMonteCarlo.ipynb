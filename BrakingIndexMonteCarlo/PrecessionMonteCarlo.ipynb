{
 "cells": [
  {
   "cell_type": "code",
   "execution_count": 10,
   "metadata": {
    "collapsed": false
   },
   "outputs": [],
   "source": [
    "%matplotlib inline\n",
    "import matplotlib.pyplot as plt\n",
    "import numpy as np\n",
    "from scipy.integrate import cumtrapz"
   ]
  },
  {
   "cell_type": "code",
   "execution_count": 130,
   "metadata": {
    "collapsed": false
   },
   "outputs": [],
   "source": [
    "def F1_func(t, tauAge, P, tauP, theta, chi, psi0):\n",
    "\n",
    "    zeta = tauAge * P\n",
    "    \n",
    "    psi = 2*np.pi * (1/tauP) * t + psi0\n",
    "\n",
    "    T1 = -1/(zeta)\n",
    "    T2 = 3./(zeta*tauAge) * t\n",
    "\n",
    "    T3 = 1./(zeta) * theta * (2*np.cos(chi)/np.sin(chi) * np.sin(psi)\n",
    "                              - 0.5*theta*np.cos(2*psi))\n",
    "\n",
    "    return (T1 + T2 + T3)/(2*np.pi)\n",
    "\n",
    "def measure_n(tauAge=1e11, P=0.1, tauP=8640000, theta=0.1, chi=0.437, psi0=0, \n",
    "              N=100, T=1e8, verbose=False):\n",
    "\n",
    "    F0_0 = 1/P\n",
    "\n",
    "    pF0 = 1/P\n",
    "    pF1 = -1/(tauAge*P)\n",
    "    pF2 = 3/(tauAge**2 * P)\n",
    "\n",
    "    time = np.linspace(0, 1*tauP, N)\n",
    "    F1 = F1_func(time, tauAge, P, tauP, theta, chi, psi0)\n",
    "    F0 = cumtrapz(y=F1, x=time, initial=0) + F0_0\n",
    "    P0 = cumtrapz(y=F0, x=time, initial=0)\n",
    "\n",
    "    coefs, V = np.polyfit(time, P0, deg=3, cov=True)\n",
    "\n",
    "    mF2 = coefs[0]*6 * (2*np.pi)\n",
    "    mF1 = coefs[1]*2 * (2*np.pi)\n",
    "    mF0 = coefs[2]\n",
    "\n",
    "    errs = np.sqrt(np.diag(V))\n",
    "    mF2_err = errs[0]*6 * (2*np.pi)\n",
    "    mF1_err = errs[1]*2 * (2*np.pi)\n",
    "    mF0_err = errs[2]\n",
    "\n",
    "    if verbose:\n",
    "        print \"measured F0 = {} +/- {:1.2e} against F0 = {}\".format(mF0, mF0_err, pF0)\n",
    "        print \"measured F1 = {:1.2e} +/- {:1.2e} against F1 = {}\".format(mF1, mF1_err, pF1)\n",
    "        print \"measured F2 = {:1.2e} +/- {:1.2e} against F2 = {}\".format(mF2, mF2_err, pF2)\n",
    "        print \"n = {:1.2f}\".format(n)\n",
    "        \n",
    "    n = mF0 * mF2 / mF1**2 \n",
    "\n",
    "    #plt.plot(time, P0 - np.poly1d(coefs)(time), \"-\")\n",
    "    #plt.show()\n",
    "    \n",
    "    return n"
   ]
  },
  {
   "cell_type": "code",
   "execution_count": 131,
   "metadata": {
    "collapsed": false
   },
   "outputs": [
    {
     "data": {
      "image/png": "[encoded data removed]",
      "text/plain": [
       "<matplotlib.figure.Figure at 0x7f55bcf4bf10>"
      ]
     },
     "metadata": {},
     "output_type": "display_data"
    }
   ],
   "source": [
    "tauAges = np.random.lognormal(28, 1, size=100)\n",
    "nobs = [measure_n(tauAge=tA) for tA in tauAges]\n",
    "\n",
    "plt.semilogx(tauAges, nobs, \"o\")\n",
    "plt.show()"
   ]
  }
 ],
 "metadata": {
  "kernelspec": {
   "display_name": "Python 2",
   "language": "python",
   "name": "python2"
  },
  "language_info": {
   "codemirror_mode": {
    "name": "ipython",
    "version": 2
   },
   "file_extension": ".py",
   "mimetype": "text/x-python",
   "name": "python",
   "nbconvert_exporter": "python",
   "pygments_lexer": "ipython2",
   "version": "2.7.6"
  }
 },
 "nbformat": 4,
 "nbformat_minor": 0
}
