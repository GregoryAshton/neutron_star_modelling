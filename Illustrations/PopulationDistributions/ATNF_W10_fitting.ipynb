{
 "cells": [
  {
   "cell_type": "code",
   "execution_count": 52,
   "metadata": {
    "collapsed": false
   },
   "outputs": [],
   "source": [
    "import matplotlib.pyplot as plt\n",
    "import numpy as np\n",
    "import sys\n",
    "from scipy.stats import norm\n",
    "import BDATools as BDA\n",
    "from get_data import df as df_full\n",
    "import scipy.stats as ss\n",
    "\n",
    "%matplotlib inline\n",
    "\n",
    "def setup_hist(vals, ax, nbins=30):\n",
    "    ax.hist(vals, nbins, normed=True, histtype=\"step\")\n",
    "    ax.hist(vals, nbins, normed=True, color=\"b\", histtype=\"stepfilled\",\n",
    "            alpha=0.2)\n",
    "    return ax"
   ]
  },
  {
   "cell_type": "code",
   "execution_count": 53,
   "metadata": {
    "collapsed": false
   },
   "outputs": [
    {
     "data": {
      "text/html": [
       "<div style=\"max-height:1000px;max-width:1500px;overflow:auto;\">\n",
       "<table border=\"1\" class=\"dataframe\">\n",
       "  <thead>\n",
       "    <tr style=\"text-align: right;\">\n",
       "      <th></th>\n",
       "      <th>Binary</th>\n",
       "      <th>F0</th>\n",
       "      <th>F1</th>\n",
       "      <th>F2</th>\n",
       "      <th>Type</th>\n",
       "      <th>W10_ms</th>\n",
       "      <th>name</th>\n",
       "      <th>tauAge</th>\n",
       "      <th>W10</th>\n",
       "    </tr>\n",
       "  </thead>\n",
       "  <tbody>\n",
       "    <tr>\n",
       "      <th>0 </th>\n",
       "      <td>NaN</td>\n",
       "      <td> 1.441446</td>\n",
       "      <td>-4.357000e-15</td>\n",
       "      <td>          NaN</td>\n",
       "      <td>NaN</td>\n",
       "      <td> 195.0</td>\n",
       "      <td> J0006+1834</td>\n",
       "      <td> 5.24e+06</td>\n",
       "      <td> 0.1950</td>\n",
       "    </tr>\n",
       "    <tr>\n",
       "      <th>2 </th>\n",
       "      <td>NaN</td>\n",
       "      <td> 0.805997</td>\n",
       "      <td>-3.667000e-16</td>\n",
       "      <td> 7.300000e-28</td>\n",
       "      <td>NaN</td>\n",
       "      <td> 142.5</td>\n",
       "      <td>   B0011+47</td>\n",
       "      <td> 3.48e+07</td>\n",
       "      <td> 0.1425</td>\n",
       "    </tr>\n",
       "    <tr>\n",
       "      <th>27</th>\n",
       "      <td>NaN</td>\n",
       "      <td> 3.141121</td>\n",
       "      <td>-1.481000e-15</td>\n",
       "      <td>          NaN</td>\n",
       "      <td>NaN</td>\n",
       "      <td>   NaN</td>\n",
       "      <td> J0026+6320</td>\n",
       "      <td> 3.36e+07</td>\n",
       "      <td>    NaN</td>\n",
       "    </tr>\n",
       "    <tr>\n",
       "      <th>29</th>\n",
       "      <td>NaN</td>\n",
       "      <td> 3.174603</td>\n",
       "      <td>          NaN</td>\n",
       "      <td>          NaN</td>\n",
       "      <td>NaN</td>\n",
       "      <td>   NaN</td>\n",
       "      <td>   J0033+57</td>\n",
       "      <td>      nan</td>\n",
       "      <td>    NaN</td>\n",
       "    </tr>\n",
       "    <tr>\n",
       "      <th>30</th>\n",
       "      <td>NaN</td>\n",
       "      <td> 1.096491</td>\n",
       "      <td>          NaN</td>\n",
       "      <td>          NaN</td>\n",
       "      <td>NaN</td>\n",
       "      <td>   NaN</td>\n",
       "      <td>   J0033+61</td>\n",
       "      <td>      nan</td>\n",
       "      <td>    NaN</td>\n",
       "    </tr>\n",
       "  </tbody>\n",
       "</table>\n",
       "</div>"
      ],
      "text/plain": [
       "    Binary        F0            F1            F2  Type  W10_ms        name  \\\n",
       "0      NaN  1.441446 -4.357000e-15           NaN   NaN   195.0  J0006+1834   \n",
       "2      NaN  0.805997 -3.667000e-16  7.300000e-28   NaN   142.5    B0011+47   \n",
       "27     NaN  3.141121 -1.481000e-15           NaN   NaN     NaN  J0026+6320   \n",
       "29     NaN  3.174603           NaN           NaN   NaN     NaN    J0033+57   \n",
       "30     NaN  1.096491           NaN           NaN   NaN     NaN    J0033+61   \n",
       "\n",
       "      tauAge     W10  \n",
       "0   5.24e+06  0.1950  \n",
       "2   3.48e+07  0.1425  \n",
       "27  3.36e+07     NaN  \n",
       "29       nan     NaN  \n",
       "30       nan     NaN  "
      ]
     },
     "execution_count": 53,
     "metadata": {},
     "output_type": "execute_result"
    }
   ],
   "source": [
    "df_full.head()"
   ]
  },
  {
   "cell_type": "code",
   "execution_count": 66,
   "metadata": {
    "collapsed": false
   },
   "outputs": [
    {
     "name": "stdout",
     "output_type": "stream",
     "text": [
      "(172, 9) (1942, 9)\n"
     ]
    }
   ],
   "source": [
    "B1828_F0 = 2.46887171470\n",
    "df = df_full[np.abs(df_full.F0 - B1828_F0)/B1828_F0 < 0.1]\n",
    "print df.shape, df_full.shape"
   ]
  },
  {
   "cell_type": "code",
   "execution_count": 67,
   "metadata": {
    "collapsed": true
   },
   "outputs": [],
   "source": [
    "lnW10 = np.log(df.W10[np.isfinite(df.W10)].values)\n",
    "W10 = df.W10[np.isfinite(df.W10)].values"
   ]
  },
  {
   "cell_type": "code",
   "execution_count": 68,
   "metadata": {
    "collapsed": false
   },
   "outputs": [
    {
     "name": "stdout",
     "output_type": "stream",
     "text": [
      "loc=-3.73298621437, scale=0.587030887085\n"
     ]
    }
   ],
   "source": [
    "shape, loc, scale = ss.lognorm.fit(W10, floc=0)\n",
    "print \"loc={}, scale={}\".format(np.log(scale), shape)"
   ]
  },
  {
   "cell_type": "code",
   "execution_count": 51,
   "metadata": {
    "collapsed": false
   },
   "outputs": [
    {
     "data": {
      "image/png": "[encoded data removed]",
      "text/plain": [
       "<matplotlib.figure.Figure at 0x7fa3954d50d0>"
      ]
     },
     "metadata": {},
     "output_type": "display_data"
    }
   ],
   "source": [
    "fig, (ax1, ax2) = plt.subplots(ncols=2, figsize=(8, 4))\n",
    "\n",
    "quants = np.linspace(W10.min(), W10.max(), 500)\n",
    "ax1.plot(quants, ss.lognorm.pdf(quants, shape, loc, scale))\n",
    "ax1 = setup_hist(W10, ax1, 30)\n",
    "ax1.set_xlabel(\"$W_{10}$\")\n",
    "ax1.set_ylabel(\"Normalised count\")\n",
    "                               \n",
    "lnquants = np.linspace(lnW10.min(), lnW10.max(), 100)\n",
    "ax2.plot(lnquants, ss.norm.pdf(lnquants, loc=np.log(scale), scale=shape))\n",
    "ax2 = setup_hist(lnW10, ax2, 30)\n",
    "ax2.set_xlabel(\"$\\ln W_{10}$\")\n",
    "ax2.set_ylabel(\"Normalised count\")\n",
    "                               \n",
    "fig.tight_layout()\n",
    "plt.savefig(\"lnW10_distribution.pdf\")"
   ]
  },
  {
   "cell_type": "code",
   "execution_count": 62,
   "metadata": {
    "collapsed": false
   },
   "outputs": [
    {
     "data": {
      "text/plain": [
       "[<matplotlib.lines.Line2D at 0x7fa396822790>]"
      ]
     },
     "execution_count": 62,
     "metadata": {},
     "output_type": "execute_result"
    },
    {
     "data": {
      "image/png": "[encoded data removed]",
      "text/plain": [
       "<matplotlib.figure.Figure at 0x7fa396801710>"
      ]
     },
     "metadata": {},
     "output_type": "display_data"
    }
   ],
   "source": [
    "W10 = df_full.W10.values\n",
    "F0 = df_full.F0.values\n",
    "plt.plot(np.log(F0), np.log(W10), \"o\")"
   ]
  }
 ],
 "metadata": {
  "kernelspec": {
   "display_name": "Python 2",
   "language": "python",
   "name": "python2"
  },
  "language_info": {
   "codemirror_mode": {
    "name": "ipython",
    "version": 2
   },
   "file_extension": ".py",
   "mimetype": "text/x-python",
   "name": "python",
   "nbconvert_exporter": "python",
   "pygments_lexer": "ipython2",
   "version": "2.7.6"
  }
 },
 "nbformat": 4,
 "nbformat_minor": 0
}
