{
 "cells": [
  {
   "cell_type": "code",
   "execution_count": 2,
   "metadata": {
    "collapsed": true
   },
   "outputs": [],
   "source": [
    "%matplotlib inline\n",
    "import pandas as pd\n",
    "from scipy.integrate import cumtrapz\n",
    "import numpy as np\n",
    "import matplotlib.pyplot as plt"
   ]
  },
  {
   "cell_type": "code",
   "execution_count": 3,
   "metadata": {
    "collapsed": false
   },
   "outputs": [
    {
     "data": {
      "text/html": [
       "<div style=\"max-height:1000px;max-width:1500px;overflow:auto;\">\n",
       "<table border=\"1\" class=\"dataframe\">\n",
       "  <thead>\n",
       "    <tr style=\"text-align: right;\">\n",
       "      <th></th>\n",
       "      <th>NAME</th>\n",
       "      <th>F0</th>\n",
       "      <th>F1</th>\n",
       "      <th>F2</th>\n",
       "      <th>BINARY</th>\n",
       "      <th>PSR</th>\n",
       "      <th>AGE</th>\n",
       "      <th>Unnamed: 7</th>\n",
       "    </tr>\n",
       "  </thead>\n",
       "  <tbody>\n",
       "    <tr>\n",
       "      <th>0</th>\n",
       "      <td> J0006+1834</td>\n",
       "      <td>   1.441446</td>\n",
       "      <td>-4.357000e-15</td>\n",
       "      <td>          NaN</td>\n",
       "      <td> NaN</td>\n",
       "      <td>  NaN</td>\n",
       "      <td>  5240000</td>\n",
       "      <td>NaN</td>\n",
       "    </tr>\n",
       "    <tr>\n",
       "      <th>1</th>\n",
       "      <td> J0007+7303</td>\n",
       "      <td>   3.165827</td>\n",
       "      <td>-3.612000e-12</td>\n",
       "      <td> 4.100000e-23</td>\n",
       "      <td> NaN</td>\n",
       "      <td> NRAD</td>\n",
       "      <td>    13900</td>\n",
       "      <td>NaN</td>\n",
       "    </tr>\n",
       "    <tr>\n",
       "      <th>2</th>\n",
       "      <td>   B0011+47</td>\n",
       "      <td>   0.805997</td>\n",
       "      <td>-3.667000e-16</td>\n",
       "      <td> 7.300000e-28</td>\n",
       "      <td> NaN</td>\n",
       "      <td>  NaN</td>\n",
       "      <td> 34800000</td>\n",
       "      <td>NaN</td>\n",
       "    </tr>\n",
       "    <tr>\n",
       "      <th>3</th>\n",
       "      <td> J0023+0923</td>\n",
       "      <td> 327.868852</td>\n",
       "      <td>          NaN</td>\n",
       "      <td>          NaN</td>\n",
       "      <td>  BT</td>\n",
       "      <td>   HE</td>\n",
       "      <td>      NaN</td>\n",
       "      <td>NaN</td>\n",
       "    </tr>\n",
       "    <tr>\n",
       "      <th>4</th>\n",
       "      <td>  B0021-72C</td>\n",
       "      <td> 173.708219</td>\n",
       "      <td> 1.504000e-15</td>\n",
       "      <td>          NaN</td>\n",
       "      <td> NaN</td>\n",
       "      <td>  NaN</td>\n",
       "      <td>      NaN</td>\n",
       "      <td>NaN</td>\n",
       "    </tr>\n",
       "  </tbody>\n",
       "</table>\n",
       "</div>"
      ],
      "text/plain": [
       "         NAME          F0            F1            F2 BINARY   PSR       AGE  \\\n",
       "0  J0006+1834    1.441446 -4.357000e-15           NaN    NaN   NaN   5240000   \n",
       "1  J0007+7303    3.165827 -3.612000e-12  4.100000e-23    NaN  NRAD     13900   \n",
       "2    B0011+47    0.805997 -3.667000e-16  7.300000e-28    NaN   NaN  34800000   \n",
       "3  J0023+0923  327.868852           NaN           NaN     BT    HE       NaN   \n",
       "4   B0021-72C  173.708219  1.504000e-15           NaN    NaN   NaN       NaN   \n",
       "\n",
       "   Unnamed: 7  \n",
       "0         NaN  \n",
       "1         NaN  \n",
       "2         NaN  \n",
       "3         NaN  \n",
       "4         NaN  "
      ]
     },
     "execution_count": 3,
     "metadata": {},
     "output_type": "execute_result"
    }
   ],
   "source": [
    "df_full = pd.read_csv(\"ATNF_data_file.txt\", sep=\" \", skiprows=[0, 2, 3], header=0,\n",
    "                 skipinitialspace=True, skipfooter=1, engine='python',\n",
    "                 na_values=\"*\")\n",
    "df_full.head()"
   ]
  },
  {
   "cell_type": "code",
   "execution_count": 4,
   "metadata": {
    "collapsed": false
   },
   "outputs": [
    {
     "name": "stdout",
     "output_type": "stream",
     "text": [
      "<class 'pandas.core.frame.DataFrame'>\n",
      "Int64Index: 422 entries, 1 to 2524\n",
      "Data columns (total 8 columns):\n",
      "NAME          422 non-null object\n",
      "F0            422 non-null float64\n",
      "F1            422 non-null float64\n",
      "F2            422 non-null float64\n",
      "BINARY        24 non-null object\n",
      "PSR           64 non-null object\n",
      "AGE           421 non-null float64\n",
      "Unnamed: 7    0 non-null float64\n",
      "dtypes: float64(5), object(3)\n",
      "memory usage: 29.7+ KB\n"
     ]
    }
   ],
   "source": [
    "df = df_full[~np.isnan(df_full['F2'])].copy().reindex()\n",
    "df.info()"
   ]
  },
  {
   "cell_type": "code",
   "execution_count": 5,
   "metadata": {
    "collapsed": true
   },
   "outputs": [],
   "source": [
    "df['nobs'] = df.F0 * df.F2/df.F1**2\n",
    "df['tch'] = -df.F0 / (2*df.F1)\n",
    "df['tch_years'] = df['tch'] / (86400 * 365)"
   ]
  },
  {
   "cell_type": "code",
   "execution_count": 6,
   "metadata": {
    "collapsed": false
   },
   "outputs": [
    {
     "data": {
      "image/png": "[encoded data removed]",
      "text/plain": [
       "<matplotlib.figure.Figure at 0x7fdf43495390>"
      ]
     },
     "metadata": {},
     "output_type": "display_data"
    }
   ],
   "source": [
    "fig, ax = plt.subplots()\n",
    "\n",
    "ax.semilogx(df['tch_years'], df['nobs'], \"o\")\n",
    "ax.set_yscale(\"symlog\")\n",
    "ax.set_xlabel(r\"$\\tau_{\\mathrm{ch}}$ [years]\")\n",
    "ax.set_ylabel(r\"Observed braking index $n_{\\mathrm{obs}}$\")\n",
    "\n",
    "tch = df['tch'].values[0:100]\n",
    "nobs = df['nobs'].values[0:100]\n",
    "ax.plot(tch/(86400*365), nobs, \"or\")\n",
    "\n",
    "plt.show()"
   ]
  },
  {
   "cell_type": "code",
   "execution_count": 7,
   "metadata": {
    "collapsed": false
   },
   "outputs": [
    {
     "name": "stderr",
     "output_type": "stream",
     "text": [
      "/usr/local/lib/python2.7/dist-packages/matplotlib-1.5.dev1-py2.7-linux-x86_64.egg/matplotlib/__init__.py:1321: UserWarning:  This call to matplotlib.use() has no effect\n",
      "because the backend has already been chosen;\n",
      "matplotlib.use() must be called *before* pylab, matplotlib.pyplot,\n",
      "or matplotlib.backends is imported for the first time.\n",
      "\n",
      "  warnings.warn(_use_error_msg)\n"
     ]
    }
   ],
   "source": [
    "import emcee \n",
    "import triangle\n",
    "import BDATools as BDA\n",
    "\n",
    "def Generic_lnuniformprior(theta, theta_lims):\n",
    "    \"\"\" Generic uniform priors on theta \n",
    "    \n",
    "    Parameters\n",
    "    ----------\n",
    "    theta : array_like \n",
    "        Value of the parameters\n",
    "    theta_lims: array_like of shape (len(theta), 2)\n",
    "        Array of pairs [min, max] for each theta paramater\n",
    "        \n",
    "    \"\"\"\n",
    "    \n",
    "    theta_lims = np.array(theta_lims)\n",
    "    \n",
    "    if all(theta - theta_lims[:, 0] > 0 ) and all(theta_lims[:, 1] - theta > 0):\n",
    "        return np.prod(1.0/np.diff(theta_lims, axis=1))\n",
    "    return -np.inf\n",
    "\n",
    "def Generic_lnlike(theta, t, x, model):\n",
    "    \"\"\" Generic likelihood function for signal in Gaussian noise\n",
    "    \n",
    "    Parameters\n",
    "    ----------\n",
    "    theta : array_like\n",
    "        Value of the parameters, the noise strength `sigma` should ALWAYS be\n",
    "        the last element in the list\n",
    "    t : array_like\n",
    "        The independant variable\n",
    "    x : array_like\n",
    "        The observed dependent variable\n",
    "    model : func\n",
    "        Signal model, calling `model(theta[:-1], t)` should\n",
    "        produced the corresponding value of the signal \n",
    "        alone `x_val`, without noise. \n",
    "    \n",
    "    \"\"\"\n",
    "    \n",
    "    sigma2 = theta[-1]**2\n",
    "    xmod = [model(ti, theta[:-1]) for ti in t]\n",
    "    return -0.5*(np.sum((x-xmod)**2 / sigma2 + np.log(2*np.pi*sigma2))) \n",
    " \n",
    "\n",
    "def F1_func(t, tauAge, P, tauP, theta, chi, psi0):\n",
    "\n",
    "    zeta = tauAge * P\n",
    "    \n",
    "    psi = 2*np.pi * (1/tauP) * t + psi0\n",
    "\n",
    "    T1 = -1/(zeta)\n",
    "    T2 = 3./(zeta*tauAge) * t\n",
    "\n",
    "    T3 = 1./(zeta) * theta * (2*np.cos(chi)/np.sin(chi) * np.sin(psi)\n",
    "                              - 0.5*theta*np.cos(2*psi))\n",
    "\n",
    "    return (T1 + T2 + T3)/(2*np.pi)\n",
    "\n",
    "time = np.linspace(0, 1e8, 100)\n",
    "\n",
    "def SignalModel(tauAge, params):\n",
    "\n",
    "    P, tauP, theta, chi, psi0 = params\n",
    "    \n",
    "    F0_0 = 1/P\n",
    "\n",
    "    \n",
    "    F1 = F1_func(time, tauAge, P, tauP, theta, chi, psi0)\n",
    "    F0 = cumtrapz(y=F1, x=time, initial=0) + F0_0\n",
    "    P0 = cumtrapz(y=F0, x=time, initial=0)\n",
    "\n",
    "    coefs, V = np.polyfit(time, P0, deg=3, cov=True)\n",
    "\n",
    "    mF2 = coefs[0]*6 * (2*np.pi)\n",
    "    mF1 = coefs[1]*2 * (2*np.pi)\n",
    "    mF0 = coefs[2]\n",
    "\n",
    "    #errs = np.sqrt(np.diag(V))\n",
    "    #mF2_err = errs[0]*6 * (2*np.pi)\n",
    "    #mF1_err = errs[1]*2 * (2*np.pi)\n",
    "    #mF0_err = errs[2]\n",
    "        \n",
    "    n = mF0 * mF2 / mF1**2 \n",
    "\n",
    "    return n\n",
    "\n",
    "logl = lambda theta, x, y: Generic_lnlike(theta, x, y, SignalModel)     \n",
    "\n",
    "# Prior\n",
    "theta_lims = [[0.0, 0.1], \n",
    "              [1e6, 1e7],\n",
    "              [0, 1.0],\n",
    "              [0., .1],\n",
    "              [0, 1.0],\n",
    "              [0, 2e9]\n",
    "              ]\n",
    "symbols = ['P', 'tauP', 'theta', 'chi', 'psi0', 'sigma']\n",
    "logp = lambda theta: Generic_lnuniformprior(theta, theta_lims)   "
   ]
  },
  {
   "cell_type": "code",
   "execution_count": 8,
   "metadata": {
    "collapsed": false
   },
   "outputs": [
    {
     "name": "stdout",
     "output_type": "stream",
     "text": [
      "Run zeroth burn-in of 100 points to sample from\n",
      "Plotting temperature 0 chains\n",
      "Resample from zeroth burn-in\n",
      "Running burn-in of 100 points and prod of 100 points\n",
      "Running seriel MCMC simulation\n",
      "Plotting temperature 0 chains\n"
     ]
    },
    {
     "data": {
      "text/plain": [
       "<emcee.ptsampler.PTSampler at 0x7fdf42633d10>"
      ]
     },
     "execution_count": 8,
     "metadata": {},
     "output_type": "execute_result"
    }
   ],
   "source": [
    "ntemps = 1\n",
    "nburn0 = 100\n",
    "nburn = 100\n",
    "nprod = 100\n",
    "ndim = 6\n",
    "nwalkers = 100\n",
    "scatter_val = 1e-4\n",
    "\n",
    "# Initialise the walkers\n",
    "p0 = [[[np.random.uniform(tl[0], tl[1]) for tl in theta_lims] \n",
    "               for i in range(nwalkers)] for k in range(ntemps)]\n",
    "\n",
    "# Run the sampler\n",
    "sampler = emcee.PTSampler(ntemps, nwalkers, ndim, logl, logp, loglargs=[tch, nobs])\n",
    "sampler.use_parallel = False\n",
    "\n",
    "BDA.MCMCMethod(sampler, p0, nwalkers, nprod, nburn, nburn0, symbols, True, scatter_val, ndim)"
   ]
  },
  {
   "cell_type": "code",
   "execution_count": 9,
   "metadata": {
    "collapsed": false
   },
   "outputs": [
    {
     "ename": "NameError",
     "evalue": "name 'lnprob' is not defined",
     "output_type": "error",
     "traceback": [
      "\u001b[1;31m---------------------------------------------------------------------------\u001b[0m",
      "\u001b[1;31mNameError\u001b[0m                                 Traceback (most recent call last)",
      "\u001b[1;32m<ipython-input-9-ad67ce98c5d7>\u001b[0m in \u001b[0;36m<module>\u001b[1;34m()\u001b[0m\n\u001b[0;32m      7\u001b[0m \u001b[1;33m\u001b[0m\u001b[0m\n\u001b[0;32m      8\u001b[0m \u001b[1;31m# Run the sampler\u001b[0m\u001b[1;33m\u001b[0m\u001b[1;33m\u001b[0m\u001b[0m\n\u001b[1;32m----> 9\u001b[1;33m \u001b[0msampler\u001b[0m \u001b[1;33m=\u001b[0m \u001b[0memcee\u001b[0m\u001b[1;33m.\u001b[0m\u001b[0mEnsembleSampler\u001b[0m\u001b[1;33m(\u001b[0m\u001b[0mnwalkers\u001b[0m\u001b[1;33m,\u001b[0m \u001b[0mndim\u001b[0m\u001b[1;33m,\u001b[0m \u001b[0mlnprob\u001b[0m\u001b[1;33m,\u001b[0m \u001b[0margs\u001b[0m\u001b[1;33m=\u001b[0m\u001b[1;33m(\u001b[0m\u001b[0mtch\u001b[0m\u001b[1;33m,\u001b[0m \u001b[0mnobs\u001b[0m\u001b[1;33m)\u001b[0m\u001b[1;33m)\u001b[0m\u001b[1;33m\u001b[0m\u001b[0m\n\u001b[0m\u001b[0;32m     10\u001b[0m \u001b[0mout\u001b[0m \u001b[1;33m=\u001b[0m \u001b[0msampler\u001b[0m\u001b[1;33m.\u001b[0m\u001b[0mrun_mcmc\u001b[0m\u001b[1;33m(\u001b[0m\u001b[0mwalker_pos\u001b[0m\u001b[1;33m,\u001b[0m \u001b[1;36m1000\u001b[0m\u001b[1;33m)\u001b[0m\u001b[1;33m\u001b[0m\u001b[0m\n",
      "\u001b[1;31mNameError\u001b[0m: name 'lnprob' is not defined"
     ]
    }
   ],
   "source": [
    "ndim = 6\n",
    "nwalkers = 100\n",
    "\n",
    "# Initialise the walkers\n",
    "walker_pos = [[np.random.uniform(tl[0], tl[1]) for tl in theta_lims] \n",
    "               for i in range(nwalkers)] \n",
    "\n",
    "# Run the sampler\n",
    "sampler = emcee.EnsembleSampler(nwalkers, ndim, lnprob, args=(tch, nobs))\n",
    "out = sampler.run_mcmc(walker_pos, 1000)"
   ]
  },
  {
   "cell_type": "code",
   "execution_count": null,
   "metadata": {
    "collapsed": false
   },
   "outputs": [],
   "source": [
    "sampler.chain.shape"
   ]
  },
  {
   "cell_type": "code",
   "execution_count": null,
   "metadata": {
    "collapsed": false
   },
   "outputs": [],
   "source": [
    "nburn=100\n",
    "samples = sampler.chain[:, :, nburn:, :].reshape((-1, ndim))\n",
    "triangle.corner(samples)\n",
    "plt.show()"
   ]
  },
  {
   "cell_type": "code",
   "execution_count": null,
   "metadata": {
    "collapsed": false
   },
   "outputs": [],
   "source": [
    "fig, ax = plt.subplots()\n",
    "\n",
    "ax.set_yscale(\"symlog\")\n",
    "ax.set_xlabel(r\"$\\tau_{\\mathrm{ch}}$ [years]\")\n",
    "ax.set_ylabel(r\"Observed braking index $n_{\\mathrm{obs}}$\")\n",
    "ax.semilogx(tch, nobs, \"or\")\n",
    "\n",
    "samples = sampler.chain[:, :, nburn:, :].reshape((-1, ndim))\n",
    "x_sim_plot = np.linspace(1e10, max(tch), 10000) \n",
    "for s in samples[np.random.randint(len(samples), size=10)]:\n",
    "    ysignal = [SignalModel(xs, s[:-1]) for xs in x_sim_plot]\n",
    "    ax.plot(x_sim_plot, ysignal, \"-\", label=\"model\",\n",
    "            color='r', lw=0.8, alpha=1.0\n",
    "            )\n",
    "    noise_low = ysignal - s[-1]\n",
    "    noise_high = ysignal + s[-1]\n",
    "    ax.fill_between(x_sim_plot, noise_low,\n",
    "                    noise_high, color='k', alpha=0.1)\n",
    "        \n",
    "plt.show()"
   ]
  },
  {
   "cell_type": "code",
   "execution_count": null,
   "metadata": {
    "collapsed": true
   },
   "outputs": [],
   "source": []
  }
 ],
 "metadata": {
  "kernelspec": {
   "display_name": "Python 2",
   "language": "python",
   "name": "python2"
  },
  "language_info": {
   "codemirror_mode": {
    "name": "ipython",
    "version": 2
   },
   "file_extension": ".py",
   "mimetype": "text/x-python",
   "name": "python",
   "nbconvert_exporter": "python",
   "pygments_lexer": "ipython2",
   "version": "2.7.8"
  }
 },
 "nbformat": 4,
 "nbformat_minor": 0
}
